{
 "cells": [
  {
   "cell_type": "markdown",
   "metadata": {},
   "source": [
    "# <font color= Navy ><u><center>Neural Network For Object Recognition</center></u> </font>"
   ]
  },
  {
   "cell_type": "markdown",
   "metadata": {},
   "source": [
    "# <img src=\"https://miro.medium.com/max/1200/1*ghwCPKjjWKDv9HTsMTBwDA.jpeg\">"
   ]
  },
  {
   "cell_type": "markdown",
   "metadata": {},
   "source": [
    "## <font color=navy><u>Index</u></font>:\n",
    "1. [Importing python modules, helper functions and dataset](#import)\n",
    "2. [Data Exploration](#eda)\n",
    "3. [Implementing Neural Network](#nn) \n",
    "4. [Implementing Batch Normalisation](#bn)\n",
    "5. [Implementing Batch Normalisation With Dropout Layer](#dl)\n",
    "6. [Performance & Prediction On Test Data](#pred)\n",
    "7. [Final Result Summary](#summary)"
   ]
  },
  {
   "cell_type": "markdown",
   "metadata": {},
   "source": [
    "  "
   ]
  },
  {
   "cell_type": "markdown",
   "metadata": {},
   "source": [
    "<a id='import'></a>"
   ]
  },
  {
   "cell_type": "markdown",
   "metadata": {
    "colab_type": "text",
    "id": "Qqz8XEk0ej1P"
   },
   "source": [
    "## <font color= Navy > Import libraries </font>"
   ]
  },
  {
   "cell_type": "code",
   "execution_count": null,
   "metadata": {
    "colab": {
     "base_uri": "https://localhost:8080/",
     "height": 35
    },
    "colab_type": "code",
    "id": "LTUamBrufnbW",
    "outputId": "6ada7e0b-bdf1-403a-f6e0-4d3082382720"
   },
   "outputs": [],
   "source": [
    "%tensorflow_version 2.x\n",
    "import tensorflow\n",
    "tensorflow.__version__"
   ]
  },
  {
   "cell_type": "code",
   "execution_count": 109,
   "metadata": {
    "colab": {},
    "colab_type": "code",
    "id": "XWAWXpoAoTd-"
   },
   "outputs": [],
   "source": [
    "import numpy as np\n",
    "import pandas as pd\n",
    "import h5py \n",
    "import matplotlib.pyplot as plt\n",
    "%matplotlib inline\n",
    "from tensorflow.keras.models import Sequential # groups a linear stack of layers\n",
    "from tensorflow.keras.utils import to_categorical # for one hot encoding of target feature\n",
    "from tensorflow.keras.layers import Activation, Dense, BatchNormalization, Dropout \n",
    "from tensorflow.keras import optimizers"
   ]
  },
  {
   "cell_type": "code",
   "execution_count": 194,
   "metadata": {
    "colab": {},
    "colab_type": "code",
    "id": "WtQJIBl_Hfy4"
   },
   "outputs": [],
   "source": [
    "# Ignore the warnings\n",
    "import warnings\n",
    "warnings.filterwarnings(\"ignore\")"
   ]
  },
  {
   "cell_type": "markdown",
   "metadata": {},
   "source": [
    "<a id='eda'></a>"
   ]
  },
  {
   "cell_type": "markdown",
   "metadata": {
    "colab_type": "text",
    "id": "AT2JHxiQTe8n"
   },
   "source": [
    "## <font color= Navy > Data Exploration </font>"
   ]
  },
  {
   "cell_type": "code",
   "execution_count": 132,
   "metadata": {
    "colab": {},
    "colab_type": "code",
    "id": "0uBNZOioofNa"
   },
   "outputs": [],
   "source": [
    "nn_df = h5py.File(\"/content/drive/My Drive/SVHN_single_grey1.h5\", 'r')"
   ]
  },
  {
   "cell_type": "code",
   "execution_count": 111,
   "metadata": {
    "colab": {
     "base_uri": "https://localhost:8080/",
     "height": 34
    },
    "colab_type": "code",
    "id": "08Pn7FlMoyqk",
    "outputId": "1e0770a3-167a-4210-a328-64c19e43c6c0"
   },
   "outputs": [
    {
     "data": {
      "text/plain": [
       "<KeysViewHDF5 ['X_test', 'X_train', 'X_val', 'y_test', 'y_train', 'y_val']>"
      ]
     },
     "execution_count": 111,
     "metadata": {
      "tags": []
     },
     "output_type": "execute_result"
    }
   ],
   "source": [
    "nn_df.keys()"
   ]
  },
  {
   "cell_type": "code",
   "execution_count": 133,
   "metadata": {
    "colab": {},
    "colab_type": "code",
    "id": "fRX0dSPrUE3R"
   },
   "outputs": [],
   "source": [
    "#Load the training, testing, and validation data\n",
    "X_train=nn_df['X_train'][:]\n",
    "X_test=nn_df['X_test'][:]\n",
    "X_val=nn_df['X_val'][:]\n",
    "y_train=nn_df['y_train'][:]\n",
    "y_test=nn_df['y_test'][:]\n",
    "y_val=nn_df['y_val'][:]"
   ]
  },
  {
   "cell_type": "markdown",
   "metadata": {
    "colab_type": "text",
    "id": "3f-qo6tkK9JN"
   },
   "source": [
    "### <font color= Navy > Eye balling data </font>"
   ]
  },
  {
   "cell_type": "code",
   "execution_count": 134,
   "metadata": {
    "colab": {
     "base_uri": "https://localhost:8080/",
     "height": 119
    },
    "colab_type": "code",
    "id": "NqdeAXkoVKZW",
    "outputId": "a0defecc-68e0-48ed-e39c-219bca291ade"
   },
   "outputs": [
    {
     "name": "stdout",
     "output_type": "stream",
     "text": [
      "Training data X-- Shape : (42000, 32, 32) and Data Type :  float32\n",
      "Testing data X-- Shape : (18000, 32, 32) and Data Type :  float32\n",
      "Validation data X-- Shape : (60000, 32, 32) and Data Type :  float32\n",
      "Training data y-- Shape : (42000,) and Data Type :  uint8\n",
      "Testing data y-- Shape : (18000,) and Data Type :  uint8\n",
      "Validation data y-- Shape : (60000,) and Data Type :  uint8\n"
     ]
    }
   ],
   "source": [
    "# Printing the shape and data type of training, testing, and validation data\n",
    "print(\"Training data X-- Shape :\", X_train.shape,\"and Data Type : \", X_train.dtype)\n",
    "print(\"Testing data X-- Shape :\", X_test.shape,\"and Data Type : \", X_test.dtype)\n",
    "print(\"Validation data X-- Shape :\", X_val.shape,\"and Data Type : \", X_val.dtype)\n",
    "print(\"Training data y-- Shape :\", y_train.shape,\"and Data Type : \", y_train.dtype)\n",
    "print(\"Testing data y-- Shape :\", y_test.shape,\"and Data Type : \", y_test.dtype)\n",
    "print(\"Validation data y-- Shape :\", y_val.shape,\"and Data Type : \", y_val.dtype)"
   ]
  },
  {
   "cell_type": "code",
   "execution_count": 114,
   "metadata": {
    "colab": {
     "base_uri": "https://localhost:8080/",
     "height": 486
    },
    "colab_type": "code",
    "id": "lHoYJYxSV8h7",
    "outputId": "6c278480-2f5e-43e2-f1f7-0ac1cffb430f"
   },
   "outputs": [
    {
     "data": {
      "image/png": "[encoded data removed]",
      "text/plain": [
       "<Figure size 576x576 with 100 Axes>"
      ]
     },
     "metadata": {
      "needs_background": "light",
      "tags": []
     },
     "output_type": "display_data"
    }
   ],
   "source": [
    "fig=plt.figure(figsize=(8,8))\n",
    "columns=10\n",
    "rows=10\n",
    "for i in range(1, columns*rows+1):\n",
    "    img=X_train[i]\n",
    "    fig.add_subplot(rows,columns,i)\n",
    "    plt.imshow(img,cmap='gray')\n",
    "plt.show()"
   ]
  },
  {
   "cell_type": "code",
   "execution_count": 115,
   "metadata": {
    "colab": {
     "base_uri": "https://localhost:8080/",
     "height": 283
    },
    "colab_type": "code",
    "id": "lQxTpN-YWVyv",
    "outputId": "ea4659e7-87c2-43f5-b2c0-b33fffb30967"
   },
   "outputs": [
    {
     "data": {
      "image/png": "[encoded data removed]",
      "text/plain": [
       "<Figure size 432x288 with 1 Axes>"
      ]
     },
     "metadata": {
      "needs_background": "light",
      "tags": []
     },
     "output_type": "display_data"
    },
    {
     "name": "stdout",
     "output_type": "stream",
     "text": [
      "Label:  2\n"
     ]
    }
   ],
   "source": [
    "# show the number in the dataset\n",
    "position = 17999\n",
    "plt.imshow(X_test[position],cmap='gray')    \n",
    "plt.show()\n",
    "print('Label: ', y_test[position])"
   ]
  },
  {
   "cell_type": "code",
   "execution_count": 116,
   "metadata": {
    "colab": {
     "base_uri": "https://localhost:8080/",
     "height": 95
    },
    "colab_type": "code",
    "id": "xf6KacL8b_nK",
    "outputId": "4d7fb267-ce05-45ab-c427-4e0c960d46d8"
   },
   "outputs": [
    {
     "data": {
      "image/png": "[encoded data removed]",
      "text/plain": [
       "<Figure size 720x72 with 10 Axes>"
      ]
     },
     "metadata": {
      "needs_background": "light",
      "tags": []
     },
     "output_type": "display_data"
    },
    {
     "name": "stdout",
     "output_type": "stream",
     "text": [
      "label for each of the above image: [2 6 7 4 4 0 3 0 7 3]\n"
     ]
    }
   ],
   "source": [
    "plt.figure(figsize=(10, 1))\n",
    "for i in range(10):\n",
    "    plt.subplot(1, 10, i+1)\n",
    "    plt.imshow(X_train[i].reshape(32,32),cmap='gray')\n",
    "    plt.axis('off')\n",
    "plt.show()\n",
    "print('label for each of the above image: %s' % (y_train[0:10]))"
   ]
  },
  {
   "cell_type": "markdown",
   "metadata": {},
   "source": [
    "<a id='nn'></a>"
   ]
  },
  {
   "cell_type": "markdown",
   "metadata": {
    "colab_type": "text",
    "id": "u8_TOZB6ea76"
   },
   "source": [
    "## <font color= Navy > Implementing Neural Network </font>"
   ]
  },
  {
   "cell_type": "markdown",
   "metadata": {
    "colab_type": "text",
    "id": "nVxI0HSDfHaq"
   },
   "source": [
    "### <font color= Navy > Reshape input data </font>"
   ]
  },
  {
   "cell_type": "code",
   "execution_count": 135,
   "metadata": {
    "colab": {
     "base_uri": "https://localhost:8080/",
     "height": 34
    },
    "colab_type": "code",
    "id": "mwjEjFhMt0Rv",
    "outputId": "cf78bf80-c4a9-4942-96cf-0f2241332f0b"
   },
   "outputs": [
    {
     "data": {
      "text/plain": [
       "(42000, 32, 32)"
      ]
     },
     "execution_count": 135,
     "metadata": {
      "tags": []
     },
     "output_type": "execute_result"
    }
   ],
   "source": [
    "X_train.shape"
   ]
  },
  {
   "cell_type": "code",
   "execution_count": 136,
   "metadata": {
    "colab": {},
    "colab_type": "code",
    "id": "hfe_arNVefgs"
   },
   "outputs": [],
   "source": [
    "#Reshape data from 2D to 1D -> 32X32 to 1024\n",
    "X_train = np.asarray(X_train).reshape(42000,1024)\n",
    "X_test = np.asarray(X_test).reshape(18000,1024)\n",
    "X_val = np.asarray(X_val).reshape(60000,1024)"
   ]
  },
  {
   "cell_type": "markdown",
   "metadata": {
    "colab_type": "text",
    "id": "mv4efuteLDYF"
   },
   "source": [
    "### <font color= Navy > Normalise data </font>"
   ]
  },
  {
   "cell_type": "code",
   "execution_count": 137,
   "metadata": {
    "colab": {},
    "colab_type": "code",
    "id": "ea2Lv2NauOO4"
   },
   "outputs": [],
   "source": [
    "X_train = X_train.astype('float32')\n",
    "X_test = X_test.astype('float32')\n",
    "X_val = X_val.astype('float32')\n",
    "\n",
    "X_train /= 255\n",
    "X_test /= 255\n",
    "X_val /=255"
   ]
  },
  {
   "cell_type": "markdown",
   "metadata": {
    "colab_type": "text",
    "id": "zMWLItLUe8vc"
   },
   "source": [
    "### <font color= Navy > Converting output labels to category </font>"
   ]
  },
  {
   "cell_type": "code",
   "execution_count": 138,
   "metadata": {
    "colab": {},
    "colab_type": "code",
    "id": "SPoiFHa1er1z"
   },
   "outputs": [],
   "source": [
    "y_train = to_categorical(y_train, num_classes=10)\n",
    "y_test = to_categorical(y_test, num_classes=10)\n",
    "y_val = to_categorical(y_val, num_classes=10)"
   ]
  },
  {
   "cell_type": "code",
   "execution_count": 139,
   "metadata": {
    "colab": {
     "base_uri": "https://localhost:8080/",
     "height": 34
    },
    "colab_type": "code",
    "id": "AinRPBWpfWzj",
    "outputId": "1985d782-4993-4a70-dea4-e7dc1341ae06"
   },
   "outputs": [
    {
     "name": "stdout",
     "output_type": "stream",
     "text": [
      "(42000, 1024) (18000, 1024) (60000, 1024) (42000, 10) (18000, 10) (60000, 10)\n"
     ]
    }
   ],
   "source": [
    "print(X_train.shape, X_test.shape,X_val.shape, y_train.shape, y_test.shape,y_val.shape)"
   ]
  },
  {
   "cell_type": "markdown",
   "metadata": {
    "colab_type": "text",
    "id": "KaHbcHNE9gjK"
   },
   "source": [
    "### <font color= Navy > Implementing first Deep learning model </font>"
   ]
  },
  {
   "cell_type": "code",
   "execution_count": 165,
   "metadata": {
    "colab": {},
    "colab_type": "code",
    "id": "4c7MMZP58irw"
   },
   "outputs": [],
   "source": [
    "##Initialize the Artificial Neural Network Classifier\n",
    "nn_model1 = Sequential()\n",
    "\n",
    "# Input Layer\n",
    "#Adding Input layer and activation functions ReLU\n",
    "nn_model1.add(Dense(512,input_shape = (1024,)))\n",
    "#Adding Activation function\n",
    "nn_model1.add(Activation('relu'))\n",
    "\n",
    "#Hidden Layer 1\n",
    "nn_model1.add(Dense(256))\n",
    "nn_model1.add(Activation('relu'))\n",
    "\n",
    "# # #Hidden Layer 2\n",
    "nn_model1.add(Dense(128))\n",
    "nn_model1.add(Activation('relu'))\n",
    "\n",
    "# # #Hidden Layer 3\n",
    "nn_model1.add(Dense(64))\n",
    "nn_model1.add(Activation('relu'))\n",
    "\n",
    "# #Hidden Layer 4\n",
    "nn_model1.add(Dense(32))\n",
    "nn_model1.add(Activation('relu'))\n",
    "\n",
    "# Output Layer\n",
    "nn_model1.add(Dense(10))\n",
    "#Adding Activation function\n",
    "nn_model1.add(Activation('softmax'))"
   ]
  },
  {
   "cell_type": "code",
   "execution_count": 166,
   "metadata": {
    "colab": {
     "base_uri": "https://localhost:8080/",
     "height": 561
    },
    "colab_type": "code",
    "id": "YGTyyejh_jzO",
    "outputId": "144d5a90-d84e-4075-e6c5-9a7aed56a34c"
   },
   "outputs": [
    {
     "name": "stdout",
     "output_type": "stream",
     "text": [
      "Model: \"sequential_19\"\n",
      "_________________________________________________________________\n",
      "Layer (type)                 Output Shape              Param #   \n",
      "=================================================================\n",
      "dense_82 (Dense)             (None, 512)               524800    \n",
      "_________________________________________________________________\n",
      "activation_75 (Activation)   (None, 512)               0         \n",
      "_________________________________________________________________\n",
      "dense_83 (Dense)             (None, 256)               131328    \n",
      "_________________________________________________________________\n",
      "activation_76 (Activation)   (None, 256)               0         \n",
      "_________________________________________________________________\n",
      "dense_84 (Dense)             (None, 128)               32896     \n",
      "_________________________________________________________________\n",
      "activation_77 (Activation)   (None, 128)               0         \n",
      "_________________________________________________________________\n",
      "dense_85 (Dense)             (None, 64)                8256      \n",
      "_________________________________________________________________\n",
      "activation_78 (Activation)   (None, 64)                0         \n",
      "_________________________________________________________________\n",
      "dense_86 (Dense)             (None, 32)                2080      \n",
      "_________________________________________________________________\n",
      "activation_79 (Activation)   (None, 32)                0         \n",
      "_________________________________________________________________\n",
      "dense_87 (Dense)             (None, 10)                330       \n",
      "_________________________________________________________________\n",
      "activation_80 (Activation)   (None, 10)                0         \n",
      "=================================================================\n",
      "Total params: 699,690\n",
      "Trainable params: 699,690\n",
      "Non-trainable params: 0\n",
      "_________________________________________________________________\n"
     ]
    }
   ],
   "source": [
    "nn_model1.summary()"
   ]
  },
  {
   "cell_type": "code",
   "execution_count": 7,
   "metadata": {},
   "outputs": [
    {
     "name": "stdout",
     "output_type": "stream",
     "text": [
      "Number of Train Parameters in the first layer = 1024*512 (weights) + 512 (bias)\n",
      ".i.e 584800\n"
     ]
    }
   ],
   "source": [
    "print(\"Number of Train Parameters in the first layer = 1024*512 (weights) + 512 (bias)\")\n",
    "print(\".i.e 584800\")"
   ]
  },
  {
   "cell_type": "code",
   "execution_count": 167,
   "metadata": {
    "colab": {},
    "colab_type": "code",
    "id": "ME07Qn5v-NDp"
   },
   "outputs": [],
   "source": [
    "# compiling the ANN classifier\n",
    "nn_model1.compile(optimizer = 'sgd', loss = 'categorical_crossentropy', metrics = ['accuracy'])"
   ]
  },
  {
   "cell_type": "markdown",
   "metadata": {},
   "source": [
    "<font color= Navy > **Blogs on SGD , Different Loss Functions & Epoch/Batch Size** </font>\n",
    "\n",
    "https://www.geeksforgeeks.org/ml-stochastic-gradient-descent-sgd/\n",
    "\n",
    "https://medium.com/analytics-vidhya/introduction-of-different-types-of-loss-functions-in-machine-learning-and-deep-learning-66ef7804668b\n",
    "\n",
    "https://medium.com/@phuctrt/loss-functions-why-what-where-or-when-189815343d3f\n",
    "\n",
    "https://towardsdatascience.com/epoch-vs-iterations-vs-batch-size-4dfb9c7ce9c9"
   ]
  },
  {
   "cell_type": "code",
   "execution_count": 168,
   "metadata": {
    "colab": {
     "base_uri": "https://localhost:8080/",
     "height": 394
    },
    "colab_type": "code",
    "id": "qzjRB_icABBO",
    "outputId": "b29ae2d6-c666-4682-ea23-681791832fa0"
   },
   "outputs": [
    {
     "name": "stdout",
     "output_type": "stream",
     "text": [
      "Epoch 1/10\n",
      "210/210 [==============================] - 5s 22ms/step - loss: 2.3000 - accuracy: 0.1123 - val_loss: 2.2933 - val_accuracy: 0.1400\n",
      "Epoch 2/10\n",
      "210/210 [==============================] - 4s 21ms/step - loss: 2.2881 - accuracy: 0.1464 - val_loss: 2.2821 - val_accuracy: 0.1444\n",
      "Epoch 3/10\n",
      "210/210 [==============================] - 4s 21ms/step - loss: 2.2744 - accuracy: 0.1709 - val_loss: 2.2655 - val_accuracy: 0.1955\n",
      "Epoch 4/10\n",
      "210/210 [==============================] - 4s 21ms/step - loss: 2.2542 - accuracy: 0.2038 - val_loss: 2.2386 - val_accuracy: 0.2264\n",
      "Epoch 5/10\n",
      "210/210 [==============================] - 4s 21ms/step - loss: 2.2207 - accuracy: 0.2370 - val_loss: 2.1944 - val_accuracy: 0.2684\n",
      "Epoch 6/10\n",
      "210/210 [==============================] - 4s 21ms/step - loss: 2.1627 - accuracy: 0.2684 - val_loss: 2.1158 - val_accuracy: 0.2859\n",
      "Epoch 7/10\n",
      "210/210 [==============================] - 4s 21ms/step - loss: 2.0795 - accuracy: 0.2840 - val_loss: 2.0093 - val_accuracy: 0.3308\n",
      "Epoch 8/10\n",
      "210/210 [==============================] - 4s 21ms/step - loss: 1.9846 - accuracy: 0.3089 - val_loss: 1.9971 - val_accuracy: 0.2885\n",
      "Epoch 9/10\n",
      "210/210 [==============================] - 4s 21ms/step - loss: 1.9076 - accuracy: 0.3429 - val_loss: 2.0167 - val_accuracy: 0.2633\n",
      "Epoch 10/10\n",
      "210/210 [==============================] - 4s 21ms/step - loss: 1.8107 - accuracy: 0.3927 - val_loss: 1.8536 - val_accuracy: 0.3433\n"
     ]
    },
    {
     "data": {
      "text/plain": [
       "<tensorflow.python.keras.callbacks.History at 0x7f5b1e6df710>"
      ]
     },
     "execution_count": 168,
     "metadata": {
      "tags": []
     },
     "output_type": "execute_result"
    }
   ],
   "source": [
    "nn_model1.fit(X_train, y_train, validation_data=(X_val, y_val), batch_size = 200, epochs = 10, verbose = 1)"
   ]
  },
  {
   "cell_type": "code",
   "execution_count": 169,
   "metadata": {
    "colab": {
     "base_uri": "https://localhost:8080/",
     "height": 51
    },
    "colab_type": "code",
    "id": "YwuU63CG1dUy",
    "outputId": "f3644edf-5350-4398-d122-01b619c69bf1"
   },
   "outputs": [
    {
     "name": "stdout",
     "output_type": "stream",
     "text": [
      "1875/1875 [==============================] - 5s 3ms/step - loss: 1.8536 - accuracy: 0.3433\n",
      "Val_acc using simple NN SGD Optimizer :  0.3433000147342682\n"
     ]
    }
   ],
   "source": [
    "results = nn_model1.evaluate(X_val, y_val)\n",
    "print('Val_acc using simple NN SGD Optimizer : ', results[1])"
   ]
  },
  {
   "cell_type": "code",
   "execution_count": 170,
   "metadata": {
    "colab": {
     "base_uri": "https://localhost:8080/",
     "height": 80
    },
    "colab_type": "code",
    "id": "C7cwj5RL1ZT8",
    "outputId": "3946da2f-c136-4bdc-8904-2f195c411dde"
   },
   "outputs": [
    {
     "data": {
      "text/html": [
       "<div>\n",
       "<style scoped>\n",
       "    .dataframe tbody tr th:only-of-type {\n",
       "        vertical-align: middle;\n",
       "    }\n",
       "\n",
       "    .dataframe tbody tr th {\n",
       "        vertical-align: top;\n",
       "    }\n",
       "\n",
       "    .dataframe thead th {\n",
       "        text-align: right;\n",
       "    }\n",
       "</style>\n",
       "<table border=\"1\" class=\"dataframe\">\n",
       "  <thead>\n",
       "    <tr style=\"text-align: right;\">\n",
       "      <th></th>\n",
       "      <th>Method</th>\n",
       "      <th>accuracy</th>\n",
       "    </tr>\n",
       "  </thead>\n",
       "  <tbody>\n",
       "    <tr>\n",
       "      <th>1</th>\n",
       "      <td>NN with SGD Optimizer</td>\n",
       "      <td>0.3433</td>\n",
       "    </tr>\n",
       "  </tbody>\n",
       "</table>\n",
       "</div>"
      ],
      "text/plain": [
       "                  Method  accuracy\n",
       "1  NN with SGD Optimizer    0.3433"
      ]
     },
     "execution_count": 170,
     "metadata": {
      "tags": []
     },
     "output_type": "execute_result"
    }
   ],
   "source": [
    "#Store the accuracy results for each model in a dataframe for final comparison\n",
    "results_on_val = pd.DataFrame({'Method':['NN with SGD Optimizer'], 'accuracy': results[1]},index={'1'})\n",
    "results_on_val = results_on_val[['Method', 'accuracy']]\n",
    "results_on_val"
   ]
  },
  {
   "cell_type": "markdown",
   "metadata": {
    "colab_type": "text",
    "id": "YtWRxu9iLMXU"
   },
   "source": [
    "<font color= Navy > **Model is underfitting with SGD optimizer, trying Adam optimizer** </font>"
   ]
  },
  {
   "cell_type": "code",
   "execution_count": 171,
   "metadata": {
    "colab": {},
    "colab_type": "code",
    "id": "ro4B67PbE-hC"
   },
   "outputs": [],
   "source": [
    "# compiling the ANN classifier\n",
    "nn_model1.compile(optimizer = 'adam', loss = 'categorical_crossentropy', metrics = ['accuracy'])"
   ]
  },
  {
   "cell_type": "code",
   "execution_count": 172,
   "metadata": {
    "colab": {
     "base_uri": "https://localhost:8080/",
     "height": 394
    },
    "colab_type": "code",
    "id": "mGvM-o0_FJWu",
    "outputId": "664fbc02-6dfb-4c7b-adc8-805827e5cc8f"
   },
   "outputs": [
    {
     "name": "stdout",
     "output_type": "stream",
     "text": [
      "Epoch 1/10\n",
      "210/210 [==============================] - 5s 23ms/step - loss: 2.1201 - accuracy: 0.2055 - val_loss: 1.8114 - val_accuracy: 0.3553\n",
      "Epoch 2/10\n",
      "210/210 [==============================] - 5s 22ms/step - loss: 1.5384 - accuracy: 0.4702 - val_loss: 1.3413 - val_accuracy: 0.5519\n",
      "Epoch 3/10\n",
      "210/210 [==============================] - 5s 22ms/step - loss: 1.2650 - accuracy: 0.5810 - val_loss: 1.1996 - val_accuracy: 0.6072\n",
      "Epoch 4/10\n",
      "210/210 [==============================] - 5s 22ms/step - loss: 1.1332 - accuracy: 0.6350 - val_loss: 1.1226 - val_accuracy: 0.6287\n",
      "Epoch 5/10\n",
      "210/210 [==============================] - 5s 22ms/step - loss: 1.0225 - accuracy: 0.6757 - val_loss: 0.9888 - val_accuracy: 0.6846\n",
      "Epoch 6/10\n",
      "210/210 [==============================] - 5s 22ms/step - loss: 0.9542 - accuracy: 0.6986 - val_loss: 0.9292 - val_accuracy: 0.7112\n",
      "Epoch 7/10\n",
      "210/210 [==============================] - 5s 22ms/step - loss: 0.8954 - accuracy: 0.7184 - val_loss: 0.9257 - val_accuracy: 0.7104\n",
      "Epoch 8/10\n",
      "210/210 [==============================] - 5s 22ms/step - loss: 0.8572 - accuracy: 0.7301 - val_loss: 0.8597 - val_accuracy: 0.7262\n",
      "Epoch 9/10\n",
      "210/210 [==============================] - 5s 22ms/step - loss: 0.8121 - accuracy: 0.7441 - val_loss: 0.7963 - val_accuracy: 0.7505\n",
      "Epoch 10/10\n",
      "210/210 [==============================] - 5s 22ms/step - loss: 0.7702 - accuracy: 0.7593 - val_loss: 0.7598 - val_accuracy: 0.7620\n"
     ]
    },
    {
     "data": {
      "text/plain": [
       "<tensorflow.python.keras.callbacks.History at 0x7f5b1cd0c518>"
      ]
     },
     "execution_count": 172,
     "metadata": {
      "tags": []
     },
     "output_type": "execute_result"
    }
   ],
   "source": [
    "nn_model1.fit(X_train, y_train, validation_data=(X_val, y_val), batch_size = 200, epochs = 10, verbose = 1)"
   ]
  },
  {
   "cell_type": "code",
   "execution_count": 173,
   "metadata": {
    "colab": {
     "base_uri": "https://localhost:8080/",
     "height": 51
    },
    "colab_type": "code",
    "id": "Brc2hEC42JTP",
    "outputId": "d829e4a5-c3ad-4533-f7b2-956c661a13a9"
   },
   "outputs": [
    {
     "name": "stdout",
     "output_type": "stream",
     "text": [
      "1875/1875 [==============================] - 7s 4ms/step - loss: 0.7598 - accuracy: 0.7620\n",
      "Val_acc using simple NN SGD Optimizer :  0.7619500160217285\n"
     ]
    }
   ],
   "source": [
    "results_1 = nn_model1.evaluate(X_val, y_val)\n",
    "print('Val_acc using simple NN SGD Optimizer : ', results_1[1])"
   ]
  },
  {
   "cell_type": "code",
   "execution_count": 174,
   "metadata": {
    "colab": {
     "base_uri": "https://localhost:8080/",
     "height": 111
    },
    "colab_type": "code",
    "id": "XnlBL4_-2LC5",
    "outputId": "65f77b0b-c464-4344-bbd6-6a211645ae39"
   },
   "outputs": [
    {
     "data": {
      "text/html": [
       "<div>\n",
       "<style scoped>\n",
       "    .dataframe tbody tr th:only-of-type {\n",
       "        vertical-align: middle;\n",
       "    }\n",
       "\n",
       "    .dataframe tbody tr th {\n",
       "        vertical-align: top;\n",
       "    }\n",
       "\n",
       "    .dataframe thead th {\n",
       "        text-align: right;\n",
       "    }\n",
       "</style>\n",
       "<table border=\"1\" class=\"dataframe\">\n",
       "  <thead>\n",
       "    <tr style=\"text-align: right;\">\n",
       "      <th></th>\n",
       "      <th>Method</th>\n",
       "      <th>accuracy</th>\n",
       "    </tr>\n",
       "  </thead>\n",
       "  <tbody>\n",
       "    <tr>\n",
       "      <th>1</th>\n",
       "      <td>NN with SGD Optimizer</td>\n",
       "      <td>0.34330</td>\n",
       "    </tr>\n",
       "    <tr>\n",
       "      <th>2</th>\n",
       "      <td>NN with Adam Optimizer</td>\n",
       "      <td>0.76195</td>\n",
       "    </tr>\n",
       "  </tbody>\n",
       "</table>\n",
       "</div>"
      ],
      "text/plain": [
       "                   Method  accuracy\n",
       "1   NN with SGD Optimizer   0.34330\n",
       "2  NN with Adam Optimizer   0.76195"
      ]
     },
     "execution_count": 174,
     "metadata": {
      "tags": []
     },
     "output_type": "execute_result"
    }
   ],
   "source": [
    "result_df = pd.DataFrame({'Method':['NN with Adam Optimizer'], 'accuracy': [results_1[1]]},index={'2'})\n",
    "results_on_val= pd.concat([results_on_val, result_df])\n",
    "results_on_val = results_on_val[['Method', 'accuracy']]\n",
    "results_on_val"
   ]
  },
  {
   "cell_type": "markdown",
   "metadata": {
    "colab_type": "text",
    "id": "_YMlyLOtLi8s"
   },
   "source": [
    "<font color= Navy > **Model performance has improved significantly with Adam, trying to improve the accuracy with tunning Learning rate. Since LR is low, the model will learn slow hence increasing the epoch value to 100** </font>"
   ]
  },
  {
   "cell_type": "code",
   "execution_count": 175,
   "metadata": {
    "colab": {
     "base_uri": "https://localhost:8080/",
     "height": 1000
    },
    "colab_type": "code",
    "id": "9Zwt6l2nFLiT",
    "outputId": "43256563-d888-4c36-8ac9-41b73ac4e811"
   },
   "outputs": [
    {
     "name": "stdout",
     "output_type": "stream",
     "text": [
      "Epoch 1/100\n",
      "210/210 [==============================] - 5s 23ms/step - loss: 0.6543 - accuracy: 0.7962 - val_loss: 0.6676 - val_accuracy: 0.7951\n",
      "Epoch 2/100\n",
      "210/210 [==============================] - 5s 22ms/step - loss: 0.6403 - accuracy: 0.8013 - val_loss: 0.6635 - val_accuracy: 0.7965\n",
      "Epoch 3/100\n",
      "210/210 [==============================] - 5s 22ms/step - loss: 0.6314 - accuracy: 0.8042 - val_loss: 0.6440 - val_accuracy: 0.8025\n",
      "Epoch 4/100\n",
      "210/210 [==============================] - 5s 22ms/step - loss: 0.6230 - accuracy: 0.8064 - val_loss: 0.6461 - val_accuracy: 0.8017\n",
      "Epoch 5/100\n",
      "210/210 [==============================] - 5s 22ms/step - loss: 0.6150 - accuracy: 0.8086 - val_loss: 0.6409 - val_accuracy: 0.8028\n",
      "Epoch 6/100\n",
      "210/210 [==============================] - 5s 22ms/step - loss: 0.6093 - accuracy: 0.8118 - val_loss: 0.6334 - val_accuracy: 0.8053\n",
      "Epoch 7/100\n",
      "210/210 [==============================] - 5s 22ms/step - loss: 0.6048 - accuracy: 0.8130 - val_loss: 0.6284 - val_accuracy: 0.8060\n",
      "Epoch 8/100\n",
      "210/210 [==============================] - 5s 22ms/step - loss: 0.5990 - accuracy: 0.8138 - val_loss: 0.6191 - val_accuracy: 0.8105\n",
      "Epoch 9/100\n",
      "210/210 [==============================] - 5s 22ms/step - loss: 0.5908 - accuracy: 0.8174 - val_loss: 0.6156 - val_accuracy: 0.8104\n",
      "Epoch 10/100\n",
      "210/210 [==============================] - 5s 22ms/step - loss: 0.5843 - accuracy: 0.8187 - val_loss: 0.6088 - val_accuracy: 0.8135\n",
      "Epoch 11/100\n",
      "210/210 [==============================] - 5s 22ms/step - loss: 0.5799 - accuracy: 0.8202 - val_loss: 0.6066 - val_accuracy: 0.8136\n",
      "Epoch 12/100\n",
      "210/210 [==============================] - 5s 22ms/step - loss: 0.5764 - accuracy: 0.8209 - val_loss: 0.6018 - val_accuracy: 0.8159\n",
      "Epoch 13/100\n",
      "210/210 [==============================] - 5s 22ms/step - loss: 0.5690 - accuracy: 0.8231 - val_loss: 0.5946 - val_accuracy: 0.8177\n",
      "Epoch 14/100\n",
      "210/210 [==============================] - 5s 22ms/step - loss: 0.5642 - accuracy: 0.8251 - val_loss: 0.5880 - val_accuracy: 0.8201\n",
      "Epoch 15/100\n",
      "210/210 [==============================] - 5s 22ms/step - loss: 0.5584 - accuracy: 0.8260 - val_loss: 0.5951 - val_accuracy: 0.8173\n",
      "Epoch 16/100\n",
      "210/210 [==============================] - 5s 22ms/step - loss: 0.5536 - accuracy: 0.8286 - val_loss: 0.5869 - val_accuracy: 0.8210\n",
      "Epoch 17/100\n",
      "210/210 [==============================] - 5s 23ms/step - loss: 0.5489 - accuracy: 0.8300 - val_loss: 0.5779 - val_accuracy: 0.8234\n",
      "Epoch 18/100\n",
      "210/210 [==============================] - 5s 22ms/step - loss: 0.5468 - accuracy: 0.8302 - val_loss: 0.5762 - val_accuracy: 0.8242\n",
      "Epoch 19/100\n",
      "210/210 [==============================] - 5s 22ms/step - loss: 0.5391 - accuracy: 0.8331 - val_loss: 0.5766 - val_accuracy: 0.8231\n",
      "Epoch 20/100\n",
      "210/210 [==============================] - 5s 22ms/step - loss: 0.5351 - accuracy: 0.8346 - val_loss: 0.5668 - val_accuracy: 0.8282\n",
      "Epoch 21/100\n",
      "210/210 [==============================] - 5s 23ms/step - loss: 0.5289 - accuracy: 0.8365 - val_loss: 0.5636 - val_accuracy: 0.8288\n",
      "Epoch 22/100\n",
      "210/210 [==============================] - 5s 22ms/step - loss: 0.5260 - accuracy: 0.8377 - val_loss: 0.5614 - val_accuracy: 0.8293\n",
      "Epoch 23/100\n",
      "210/210 [==============================] - 5s 22ms/step - loss: 0.5224 - accuracy: 0.8388 - val_loss: 0.5560 - val_accuracy: 0.8304\n",
      "Epoch 24/100\n",
      "210/210 [==============================] - 5s 22ms/step - loss: 0.5164 - accuracy: 0.8402 - val_loss: 0.5510 - val_accuracy: 0.8332\n",
      "Epoch 25/100\n",
      "210/210 [==============================] - 5s 22ms/step - loss: 0.5089 - accuracy: 0.8436 - val_loss: 0.5502 - val_accuracy: 0.8328\n",
      "Epoch 26/100\n",
      "210/210 [==============================] - 5s 22ms/step - loss: 0.5092 - accuracy: 0.8428 - val_loss: 0.5502 - val_accuracy: 0.8316\n",
      "Epoch 27/100\n",
      "210/210 [==============================] - 5s 22ms/step - loss: 0.5026 - accuracy: 0.8446 - val_loss: 0.5476 - val_accuracy: 0.8337\n",
      "Epoch 28/100\n",
      "210/210 [==============================] - 5s 23ms/step - loss: 0.4982 - accuracy: 0.8461 - val_loss: 0.5411 - val_accuracy: 0.8348\n",
      "Epoch 29/100\n",
      "210/210 [==============================] - 5s 22ms/step - loss: 0.4932 - accuracy: 0.8477 - val_loss: 0.5368 - val_accuracy: 0.8367\n",
      "Epoch 30/100\n",
      "210/210 [==============================] - 5s 23ms/step - loss: 0.4899 - accuracy: 0.8493 - val_loss: 0.5396 - val_accuracy: 0.8352\n",
      "Epoch 31/100\n",
      "210/210 [==============================] - 5s 22ms/step - loss: 0.4833 - accuracy: 0.8512 - val_loss: 0.5230 - val_accuracy: 0.8420\n",
      "Epoch 32/100\n",
      "210/210 [==============================] - 5s 22ms/step - loss: 0.4805 - accuracy: 0.8528 - val_loss: 0.5208 - val_accuracy: 0.8430\n",
      "Epoch 33/100\n",
      "210/210 [==============================] - 5s 23ms/step - loss: 0.4760 - accuracy: 0.8536 - val_loss: 0.5189 - val_accuracy: 0.8427\n",
      "Epoch 34/100\n",
      "210/210 [==============================] - 5s 22ms/step - loss: 0.4699 - accuracy: 0.8551 - val_loss: 0.5123 - val_accuracy: 0.8451\n",
      "Epoch 35/100\n",
      "210/210 [==============================] - 5s 22ms/step - loss: 0.4680 - accuracy: 0.8550 - val_loss: 0.5164 - val_accuracy: 0.8432\n",
      "Epoch 36/100\n",
      "210/210 [==============================] - 5s 22ms/step - loss: 0.4661 - accuracy: 0.8567 - val_loss: 0.5157 - val_accuracy: 0.8437\n",
      "Epoch 37/100\n",
      "210/210 [==============================] - 5s 22ms/step - loss: 0.4598 - accuracy: 0.8590 - val_loss: 0.5079 - val_accuracy: 0.8464\n",
      "Epoch 38/100\n",
      "210/210 [==============================] - 5s 22ms/step - loss: 0.4547 - accuracy: 0.8594 - val_loss: 0.5107 - val_accuracy: 0.8452\n",
      "Epoch 39/100\n",
      "210/210 [==============================] - 5s 22ms/step - loss: 0.4521 - accuracy: 0.8605 - val_loss: 0.4962 - val_accuracy: 0.8507\n",
      "Epoch 40/100\n",
      "210/210 [==============================] - 5s 22ms/step - loss: 0.4486 - accuracy: 0.8626 - val_loss: 0.5026 - val_accuracy: 0.8493\n",
      "Epoch 41/100\n",
      "210/210 [==============================] - 5s 23ms/step - loss: 0.4445 - accuracy: 0.8625 - val_loss: 0.4964 - val_accuracy: 0.8505\n",
      "Epoch 42/100\n",
      "210/210 [==============================] - 5s 22ms/step - loss: 0.4408 - accuracy: 0.8646 - val_loss: 0.4930 - val_accuracy: 0.8524\n",
      "Epoch 43/100\n",
      "210/210 [==============================] - 5s 22ms/step - loss: 0.4360 - accuracy: 0.8654 - val_loss: 0.4902 - val_accuracy: 0.8525\n",
      "Epoch 44/100\n",
      "210/210 [==============================] - 5s 22ms/step - loss: 0.4311 - accuracy: 0.8672 - val_loss: 0.5015 - val_accuracy: 0.8479\n",
      "Epoch 45/100\n",
      "210/210 [==============================] - 5s 22ms/step - loss: 0.4296 - accuracy: 0.8680 - val_loss: 0.4916 - val_accuracy: 0.8511\n",
      "Epoch 46/100\n",
      "210/210 [==============================] - 5s 22ms/step - loss: 0.4245 - accuracy: 0.8687 - val_loss: 0.4851 - val_accuracy: 0.8533\n",
      "Epoch 47/100\n",
      "210/210 [==============================] - 5s 22ms/step - loss: 0.4208 - accuracy: 0.8700 - val_loss: 0.4775 - val_accuracy: 0.8572\n",
      "Epoch 48/100\n",
      "210/210 [==============================] - 5s 22ms/step - loss: 0.4186 - accuracy: 0.8720 - val_loss: 0.4713 - val_accuracy: 0.8584\n",
      "Epoch 49/100\n",
      "210/210 [==============================] - 5s 22ms/step - loss: 0.4123 - accuracy: 0.8741 - val_loss: 0.4739 - val_accuracy: 0.8578\n",
      "Epoch 50/100\n",
      "210/210 [==============================] - 5s 23ms/step - loss: 0.4098 - accuracy: 0.8752 - val_loss: 0.4784 - val_accuracy: 0.8555\n",
      "Epoch 51/100\n",
      "210/210 [==============================] - 5s 22ms/step - loss: 0.4082 - accuracy: 0.8729 - val_loss: 0.4761 - val_accuracy: 0.8580\n",
      "Epoch 52/100\n",
      "210/210 [==============================] - 5s 23ms/step - loss: 0.4033 - accuracy: 0.8751 - val_loss: 0.4634 - val_accuracy: 0.8618\n",
      "Epoch 53/100\n",
      "210/210 [==============================] - 5s 23ms/step - loss: 0.3976 - accuracy: 0.8767 - val_loss: 0.4615 - val_accuracy: 0.8615\n",
      "Epoch 54/100\n",
      "210/210 [==============================] - 5s 23ms/step - loss: 0.3980 - accuracy: 0.8781 - val_loss: 0.4656 - val_accuracy: 0.8602\n",
      "Epoch 55/100\n",
      "210/210 [==============================] - 5s 24ms/step - loss: 0.3915 - accuracy: 0.8795 - val_loss: 0.4541 - val_accuracy: 0.8653\n",
      "Epoch 56/100\n",
      "210/210 [==============================] - 5s 24ms/step - loss: 0.3883 - accuracy: 0.8808 - val_loss: 0.4585 - val_accuracy: 0.8629\n",
      "Epoch 57/100\n",
      "210/210 [==============================] - 5s 24ms/step - loss: 0.3840 - accuracy: 0.8822 - val_loss: 0.4597 - val_accuracy: 0.8630\n",
      "Epoch 58/100\n",
      "210/210 [==============================] - 5s 22ms/step - loss: 0.3831 - accuracy: 0.8816 - val_loss: 0.4541 - val_accuracy: 0.8648\n",
      "Epoch 59/100\n",
      "210/210 [==============================] - 5s 22ms/step - loss: 0.3791 - accuracy: 0.8835 - val_loss: 0.4529 - val_accuracy: 0.8647\n",
      "Epoch 60/100\n",
      "210/210 [==============================] - 5s 22ms/step - loss: 0.3733 - accuracy: 0.8858 - val_loss: 0.4431 - val_accuracy: 0.8692\n",
      "Epoch 61/100\n",
      "210/210 [==============================] - 5s 22ms/step - loss: 0.3730 - accuracy: 0.8856 - val_loss: 0.4460 - val_accuracy: 0.8679\n",
      "Epoch 62/100\n",
      "210/210 [==============================] - 5s 22ms/step - loss: 0.3700 - accuracy: 0.8866 - val_loss: 0.4390 - val_accuracy: 0.8702\n",
      "Epoch 63/100\n",
      "210/210 [==============================] - 5s 24ms/step - loss: 0.3630 - accuracy: 0.8889 - val_loss: 0.4428 - val_accuracy: 0.8692\n",
      "Epoch 64/100\n",
      "210/210 [==============================] - 5s 23ms/step - loss: 0.3613 - accuracy: 0.8882 - val_loss: 0.4463 - val_accuracy: 0.8671\n",
      "Epoch 65/100\n",
      "210/210 [==============================] - 5s 22ms/step - loss: 0.3588 - accuracy: 0.8893 - val_loss: 0.4497 - val_accuracy: 0.8667\n",
      "Epoch 66/100\n",
      "210/210 [==============================] - 5s 22ms/step - loss: 0.3568 - accuracy: 0.8906 - val_loss: 0.4338 - val_accuracy: 0.8710\n",
      "Epoch 67/100\n",
      "210/210 [==============================] - 5s 22ms/step - loss: 0.3514 - accuracy: 0.8929 - val_loss: 0.4303 - val_accuracy: 0.8738\n",
      "Epoch 68/100\n",
      "210/210 [==============================] - 5s 22ms/step - loss: 0.3520 - accuracy: 0.8929 - val_loss: 0.4248 - val_accuracy: 0.8763\n",
      "Epoch 69/100\n",
      "210/210 [==============================] - 5s 22ms/step - loss: 0.3450 - accuracy: 0.8940 - val_loss: 0.4263 - val_accuracy: 0.8754\n",
      "Epoch 70/100\n",
      "210/210 [==============================] - 5s 23ms/step - loss: 0.3449 - accuracy: 0.8954 - val_loss: 0.4253 - val_accuracy: 0.8751\n",
      "Epoch 71/100\n",
      "210/210 [==============================] - 5s 22ms/step - loss: 0.3411 - accuracy: 0.8960 - val_loss: 0.4221 - val_accuracy: 0.8761\n",
      "Epoch 72/100\n",
      "210/210 [==============================] - 5s 22ms/step - loss: 0.3378 - accuracy: 0.8965 - val_loss: 0.4301 - val_accuracy: 0.8734\n",
      "Epoch 73/100\n",
      "210/210 [==============================] - 5s 22ms/step - loss: 0.3359 - accuracy: 0.8969 - val_loss: 0.4232 - val_accuracy: 0.8770\n",
      "Epoch 74/100\n",
      "210/210 [==============================] - 5s 22ms/step - loss: 0.3320 - accuracy: 0.8988 - val_loss: 0.4173 - val_accuracy: 0.8791\n",
      "Epoch 75/100\n",
      "210/210 [==============================] - 5s 22ms/step - loss: 0.3288 - accuracy: 0.8988 - val_loss: 0.4152 - val_accuracy: 0.8794\n",
      "Epoch 76/100\n",
      "210/210 [==============================] - 5s 22ms/step - loss: 0.3266 - accuracy: 0.9011 - val_loss: 0.4193 - val_accuracy: 0.8772\n",
      "Epoch 77/100\n",
      "210/210 [==============================] - 5s 22ms/step - loss: 0.3246 - accuracy: 0.9008 - val_loss: 0.4145 - val_accuracy: 0.8788\n",
      "Epoch 78/100\n",
      "210/210 [==============================] - 5s 22ms/step - loss: 0.3208 - accuracy: 0.9012 - val_loss: 0.4136 - val_accuracy: 0.8796\n",
      "Epoch 79/100\n",
      "210/210 [==============================] - 5s 22ms/step - loss: 0.3181 - accuracy: 0.9031 - val_loss: 0.4131 - val_accuracy: 0.8801\n",
      "Epoch 80/100\n",
      "210/210 [==============================] - 5s 22ms/step - loss: 0.3154 - accuracy: 0.9049 - val_loss: 0.4146 - val_accuracy: 0.8794\n",
      "Epoch 81/100\n",
      "210/210 [==============================] - 5s 22ms/step - loss: 0.3108 - accuracy: 0.9059 - val_loss: 0.4136 - val_accuracy: 0.8789\n",
      "Epoch 82/100\n",
      "210/210 [==============================] - 5s 22ms/step - loss: 0.3053 - accuracy: 0.9078 - val_loss: 0.4088 - val_accuracy: 0.8813\n",
      "Epoch 83/100\n",
      "210/210 [==============================] - 5s 22ms/step - loss: 0.3097 - accuracy: 0.9048 - val_loss: 0.3973 - val_accuracy: 0.8865\n",
      "Epoch 84/100\n",
      "210/210 [==============================] - 5s 22ms/step - loss: 0.3039 - accuracy: 0.9069 - val_loss: 0.4020 - val_accuracy: 0.8851\n",
      "Epoch 85/100\n",
      "210/210 [==============================] - 5s 22ms/step - loss: 0.3003 - accuracy: 0.9091 - val_loss: 0.4067 - val_accuracy: 0.8826\n",
      "Epoch 86/100\n",
      "210/210 [==============================] - 5s 22ms/step - loss: 0.2957 - accuracy: 0.9102 - val_loss: 0.3986 - val_accuracy: 0.8870\n",
      "Epoch 87/100\n",
      "210/210 [==============================] - 5s 22ms/step - loss: 0.2952 - accuracy: 0.9099 - val_loss: 0.4040 - val_accuracy: 0.8844\n",
      "Epoch 88/100\n",
      "210/210 [==============================] - 5s 22ms/step - loss: 0.2948 - accuracy: 0.9099 - val_loss: 0.4049 - val_accuracy: 0.8835\n",
      "Epoch 89/100\n",
      "210/210 [==============================] - 5s 22ms/step - loss: 0.2898 - accuracy: 0.9114 - val_loss: 0.3942 - val_accuracy: 0.8888\n",
      "Epoch 90/100\n",
      "210/210 [==============================] - 5s 22ms/step - loss: 0.2857 - accuracy: 0.9136 - val_loss: 0.3884 - val_accuracy: 0.8900\n",
      "Epoch 91/100\n",
      "210/210 [==============================] - 5s 22ms/step - loss: 0.2855 - accuracy: 0.9120 - val_loss: 0.3913 - val_accuracy: 0.8893\n",
      "Epoch 92/100\n",
      "210/210 [==============================] - 5s 22ms/step - loss: 0.2849 - accuracy: 0.9136 - val_loss: 0.3945 - val_accuracy: 0.8876\n",
      "Epoch 93/100\n",
      "210/210 [==============================] - 5s 23ms/step - loss: 0.2793 - accuracy: 0.9151 - val_loss: 0.3885 - val_accuracy: 0.8917\n",
      "Epoch 94/100\n",
      "210/210 [==============================] - 5s 23ms/step - loss: 0.2770 - accuracy: 0.9157 - val_loss: 0.3915 - val_accuracy: 0.8889\n",
      "Epoch 95/100\n",
      "210/210 [==============================] - 5s 22ms/step - loss: 0.2742 - accuracy: 0.9170 - val_loss: 0.3882 - val_accuracy: 0.8910\n",
      "Epoch 96/100\n",
      "210/210 [==============================] - 5s 22ms/step - loss: 0.2746 - accuracy: 0.9174 - val_loss: 0.3973 - val_accuracy: 0.8874\n",
      "Epoch 97/100\n",
      "210/210 [==============================] - 5s 22ms/step - loss: 0.2700 - accuracy: 0.9170 - val_loss: 0.3800 - val_accuracy: 0.8943\n",
      "Epoch 98/100\n",
      "210/210 [==============================] - 5s 22ms/step - loss: 0.2644 - accuracy: 0.9195 - val_loss: 0.3935 - val_accuracy: 0.8880\n",
      "Epoch 99/100\n",
      "210/210 [==============================] - 5s 22ms/step - loss: 0.2632 - accuracy: 0.9199 - val_loss: 0.3759 - val_accuracy: 0.8955\n",
      "Epoch 100/100\n",
      "210/210 [==============================] - 5s 22ms/step - loss: 0.2616 - accuracy: 0.9215 - val_loss: 0.3930 - val_accuracy: 0.8900\n"
     ]
    },
    {
     "data": {
      "text/plain": [
       "<tensorflow.python.keras.callbacks.History at 0x7f5b1b2f64e0>"
      ]
     },
     "execution_count": 175,
     "metadata": {
      "tags": []
     },
     "output_type": "execute_result"
    }
   ],
   "source": [
    "#Setting the learning rate\n",
    "adam = optimizers.Adam(lr = 0.0001)\n",
    "# compiling the ANN classifier\n",
    "nn_model1.compile(optimizer = adam, loss = 'categorical_crossentropy', metrics = ['accuracy'])\n",
    "# Fitting the ANN to the Training data\n",
    "nn_model1.fit(X_train, y_train, validation_data=(X_val,y_val),batch_size = 200, epochs = 100, verbose = 1)"
   ]
  },
  {
   "cell_type": "code",
   "execution_count": 176,
   "metadata": {
    "colab": {
     "base_uri": "https://localhost:8080/",
     "height": 51
    },
    "colab_type": "code",
    "id": "A0OSvPYuG6mC",
    "outputId": "1e055693-8955-46f1-c47d-237d8ec6340f"
   },
   "outputs": [
    {
     "name": "stdout",
     "output_type": "stream",
     "text": [
      "1875/1875 [==============================] - 6s 3ms/step - loss: 0.3930 - accuracy: 0.8900\n",
      "Val_acc using simple NN adam with LR :  0.8900333046913147\n"
     ]
    }
   ],
   "source": [
    "results_2 = nn_model1.evaluate(X_val, y_val)\n",
    "print('Val_acc using simple NN adam with LR : ', results_2[1])"
   ]
  },
  {
   "cell_type": "code",
   "execution_count": 177,
   "metadata": {
    "colab": {
     "base_uri": "https://localhost:8080/",
     "height": 142
    },
    "colab_type": "code",
    "id": "aMk5oaHRzs9P",
    "outputId": "463ac523-01c4-449f-b74f-a7c07dfda7a4"
   },
   "outputs": [
    {
     "data": {
      "text/html": [
       "<div>\n",
       "<style scoped>\n",
       "    .dataframe tbody tr th:only-of-type {\n",
       "        vertical-align: middle;\n",
       "    }\n",
       "\n",
       "    .dataframe tbody tr th {\n",
       "        vertical-align: top;\n",
       "    }\n",
       "\n",
       "    .dataframe thead th {\n",
       "        text-align: right;\n",
       "    }\n",
       "</style>\n",
       "<table border=\"1\" class=\"dataframe\">\n",
       "  <thead>\n",
       "    <tr style=\"text-align: right;\">\n",
       "      <th></th>\n",
       "      <th>Method</th>\n",
       "      <th>accuracy</th>\n",
       "    </tr>\n",
       "  </thead>\n",
       "  <tbody>\n",
       "    <tr>\n",
       "      <th>1</th>\n",
       "      <td>NN with SGD Optimizer</td>\n",
       "      <td>0.343300</td>\n",
       "    </tr>\n",
       "    <tr>\n",
       "      <th>2</th>\n",
       "      <td>NN with Adam Optimizer</td>\n",
       "      <td>0.761950</td>\n",
       "    </tr>\n",
       "    <tr>\n",
       "      <th>3</th>\n",
       "      <td>NN with Adam Optimizer with LR</td>\n",
       "      <td>0.890033</td>\n",
       "    </tr>\n",
       "  </tbody>\n",
       "</table>\n",
       "</div>"
      ],
      "text/plain": [
       "                           Method  accuracy\n",
       "1           NN with SGD Optimizer  0.343300\n",
       "2          NN with Adam Optimizer  0.761950\n",
       "3  NN with Adam Optimizer with LR  0.890033"
      ]
     },
     "execution_count": 177,
     "metadata": {
      "tags": []
     },
     "output_type": "execute_result"
    }
   ],
   "source": [
    "result_df = pd.DataFrame({'Method':['NN with Adam Optimizer with LR'], 'accuracy': [results_2[1]]},index={'3'})\n",
    "results_on_val= pd.concat([results_on_val, result_df])\n",
    "results_on_val = results_on_val[['Method', 'accuracy']]\n",
    "results_on_val"
   ]
  },
  {
   "cell_type": "markdown",
   "metadata": {
    "colab_type": "text",
    "id": "VumPA8UrL-sH"
   },
   "source": [
    "<font color= Navy > **Learning rate has increased the model accuracy by 10%. Also model is very marginally overfitting but I don't think that would affect the performance. Adding Batch normalisation has next step** </font>"
   ]
  },
  {
   "cell_type": "markdown",
   "metadata": {},
   "source": [
    "<a id='bl'></a>"
   ]
  },
  {
   "cell_type": "markdown",
   "metadata": {
    "colab_type": "text",
    "id": "W0wrrR140IDU"
   },
   "source": [
    "## <font color= Navy > Implementing Batch Normalisation </font>"
   ]
  },
  {
   "cell_type": "code",
   "execution_count": 178,
   "metadata": {
    "colab": {},
    "colab_type": "code",
    "id": "4t6HXS4I0L2g"
   },
   "outputs": [],
   "source": [
    "##Initialize the Artificial Neural Network Classifier\n",
    "nn_model2 = Sequential()\n",
    "\n",
    "# Input Layer\n",
    "#Adding Input layer and activation functions ReLU\n",
    "nn_model2.add(Dense(512,input_shape = (1024,)))\n",
    "nn_model2.add(BatchNormalization())\n",
    "nn_model2.add(Activation('relu'))\n",
    "\n",
    "#Hidden Layer 1\n",
    "nn_model2.add(Dense(256))\n",
    "nn_model2.add(BatchNormalization())\n",
    "nn_model2.add(Activation('relu'))\n",
    "\n",
    "# # #Hidden Layer 2\n",
    "nn_model2.add(Dense(128))\n",
    "nn_model2.add(BatchNormalization())\n",
    "nn_model2.add(Activation('relu'))\n",
    "\n",
    "# # #Hidden Layer 3\n",
    "nn_model2.add(Dense(64))\n",
    "nn_model2.add(BatchNormalization())\n",
    "nn_model2.add(Activation('relu'))\n",
    "\n",
    "# #Hidden Layer 4\n",
    "nn_model2.add(Dense(32))\n",
    "nn_model2.add(BatchNormalization())\n",
    "nn_model2.add(Activation('relu'))\n",
    "\n",
    "# Output Layer\n",
    "nn_model2.add(Dense(10))\n",
    "#Adding Activation function\n",
    "nn_model2.add(Activation('softmax'))"
   ]
  },
  {
   "cell_type": "code",
   "execution_count": 179,
   "metadata": {
    "colab": {
     "base_uri": "https://localhost:8080/",
     "height": 731
    },
    "colab_type": "code",
    "id": "38B0yPSg47lG",
    "outputId": "be15be5f-4326-4607-cc78-a89b9127ba4b"
   },
   "outputs": [
    {
     "name": "stdout",
     "output_type": "stream",
     "text": [
      "Model: \"sequential_20\"\n",
      "_________________________________________________________________\n",
      "Layer (type)                 Output Shape              Param #   \n",
      "=================================================================\n",
      "dense_88 (Dense)             (None, 512)               524800    \n",
      "_________________________________________________________________\n",
      "batch_normalization (BatchNo (None, 512)               2048      \n",
      "_________________________________________________________________\n",
      "activation_81 (Activation)   (None, 512)               0         \n",
      "_________________________________________________________________\n",
      "dense_89 (Dense)             (None, 256)               131328    \n",
      "_________________________________________________________________\n",
      "batch_normalization_1 (Batch (None, 256)               1024      \n",
      "_________________________________________________________________\n",
      "activation_82 (Activation)   (None, 256)               0         \n",
      "_________________________________________________________________\n",
      "dense_90 (Dense)             (None, 128)               32896     \n",
      "_________________________________________________________________\n",
      "batch_normalization_2 (Batch (None, 128)               512       \n",
      "_________________________________________________________________\n",
      "activation_83 (Activation)   (None, 128)               0         \n",
      "_________________________________________________________________\n",
      "dense_91 (Dense)             (None, 64)                8256      \n",
      "_________________________________________________________________\n",
      "batch_normalization_3 (Batch (None, 64)                256       \n",
      "_________________________________________________________________\n",
      "activation_84 (Activation)   (None, 64)                0         \n",
      "_________________________________________________________________\n",
      "dense_92 (Dense)             (None, 32)                2080      \n",
      "_________________________________________________________________\n",
      "batch_normalization_4 (Batch (None, 32)                128       \n",
      "_________________________________________________________________\n",
      "activation_85 (Activation)   (None, 32)                0         \n",
      "_________________________________________________________________\n",
      "dense_93 (Dense)             (None, 10)                330       \n",
      "_________________________________________________________________\n",
      "activation_86 (Activation)   (None, 10)                0         \n",
      "=================================================================\n",
      "Total params: 703,658\n",
      "Trainable params: 701,674\n",
      "Non-trainable params: 1,984\n",
      "_________________________________________________________________\n"
     ]
    }
   ],
   "source": [
    "nn_model2.summary()"
   ]
  },
  {
   "cell_type": "code",
   "execution_count": 180,
   "metadata": {
    "colab": {
     "base_uri": "https://localhost:8080/",
     "height": 1000
    },
    "colab_type": "code",
    "id": "HcrqoK-F4u2U",
    "outputId": "a49005b0-1d14-4af7-9f0c-33461d9a0ff1"
   },
   "outputs": [
    {
     "name": "stdout",
     "output_type": "stream",
     "text": [
      "Epoch 1/100\n",
      "210/210 [==============================] - 6s 28ms/step - loss: 2.0800 - accuracy: 0.2799 - val_loss: 2.0614 - val_accuracy: 0.3136\n",
      "Epoch 2/100\n",
      "210/210 [==============================] - 5s 26ms/step - loss: 1.5072 - accuracy: 0.5629 - val_loss: 1.5461 - val_accuracy: 0.5311\n",
      "Epoch 3/100\n",
      "210/210 [==============================] - 6s 26ms/step - loss: 1.1927 - accuracy: 0.6740 - val_loss: 1.3134 - val_accuracy: 0.6225\n",
      "Epoch 4/100\n",
      "210/210 [==============================] - 5s 26ms/step - loss: 1.0054 - accuracy: 0.7199 - val_loss: 1.1336 - val_accuracy: 0.6789\n",
      "Epoch 5/100\n",
      "210/210 [==============================] - 6s 26ms/step - loss: 0.8783 - accuracy: 0.7529 - val_loss: 1.0593 - val_accuracy: 0.6807\n",
      "Epoch 6/100\n",
      "210/210 [==============================] - 5s 26ms/step - loss: 0.7778 - accuracy: 0.7797 - val_loss: 1.0172 - val_accuracy: 0.7046\n",
      "Epoch 7/100\n",
      "210/210 [==============================] - 5s 26ms/step - loss: 0.7017 - accuracy: 0.8005 - val_loss: 1.0261 - val_accuracy: 0.6847\n",
      "Epoch 8/100\n",
      "210/210 [==============================] - 5s 26ms/step - loss: 0.6375 - accuracy: 0.8185 - val_loss: 1.0079 - val_accuracy: 0.6878\n",
      "Epoch 9/100\n",
      "210/210 [==============================] - 5s 26ms/step - loss: 0.5907 - accuracy: 0.8297 - val_loss: 0.8844 - val_accuracy: 0.7352\n",
      "Epoch 10/100\n",
      "210/210 [==============================] - 6s 26ms/step - loss: 0.5431 - accuracy: 0.8428 - val_loss: 0.7950 - val_accuracy: 0.7550\n",
      "Epoch 11/100\n",
      "210/210 [==============================] - 6s 26ms/step - loss: 0.5075 - accuracy: 0.8530 - val_loss: 1.0711 - val_accuracy: 0.6658\n",
      "Epoch 12/100\n",
      "210/210 [==============================] - 6s 26ms/step - loss: 0.4714 - accuracy: 0.8632 - val_loss: 0.8348 - val_accuracy: 0.7400\n",
      "Epoch 13/100\n",
      "210/210 [==============================] - 6s 27ms/step - loss: 0.4416 - accuracy: 0.8716 - val_loss: 0.7820 - val_accuracy: 0.7571\n",
      "Epoch 14/100\n",
      "210/210 [==============================] - 6s 26ms/step - loss: 0.4166 - accuracy: 0.8780 - val_loss: 0.6951 - val_accuracy: 0.7863\n",
      "Epoch 15/100\n",
      "210/210 [==============================] - 6s 26ms/step - loss: 0.3895 - accuracy: 0.8877 - val_loss: 0.7491 - val_accuracy: 0.7701\n",
      "Epoch 16/100\n",
      "210/210 [==============================] - 6s 26ms/step - loss: 0.3684 - accuracy: 0.8932 - val_loss: 0.8367 - val_accuracy: 0.7434\n",
      "Epoch 17/100\n",
      "210/210 [==============================] - 6s 26ms/step - loss: 0.3493 - accuracy: 0.8979 - val_loss: 0.6580 - val_accuracy: 0.7983\n",
      "Epoch 18/100\n",
      "210/210 [==============================] - 5s 26ms/step - loss: 0.3290 - accuracy: 0.9051 - val_loss: 0.7388 - val_accuracy: 0.7684\n",
      "Epoch 19/100\n",
      "210/210 [==============================] - 5s 26ms/step - loss: 0.3072 - accuracy: 0.9121 - val_loss: 0.7294 - val_accuracy: 0.7751\n",
      "Epoch 20/100\n",
      "210/210 [==============================] - 5s 26ms/step - loss: 0.2924 - accuracy: 0.9163 - val_loss: 0.6163 - val_accuracy: 0.8054\n",
      "Epoch 21/100\n",
      "210/210 [==============================] - 6s 26ms/step - loss: 0.2818 - accuracy: 0.9189 - val_loss: 0.8132 - val_accuracy: 0.7468\n",
      "Epoch 22/100\n",
      "210/210 [==============================] - 6s 27ms/step - loss: 0.2682 - accuracy: 0.9229 - val_loss: 0.6446 - val_accuracy: 0.7985\n",
      "Epoch 23/100\n",
      "210/210 [==============================] - 6s 27ms/step - loss: 0.2528 - accuracy: 0.9281 - val_loss: 0.5518 - val_accuracy: 0.8310\n",
      "Epoch 24/100\n",
      "210/210 [==============================] - 6s 27ms/step - loss: 0.2427 - accuracy: 0.9296 - val_loss: 0.8431 - val_accuracy: 0.7603\n",
      "Epoch 25/100\n",
      "210/210 [==============================] - 6s 27ms/step - loss: 0.2310 - accuracy: 0.9338 - val_loss: 0.6509 - val_accuracy: 0.7961\n",
      "Epoch 26/100\n",
      "210/210 [==============================] - 6s 27ms/step - loss: 0.2221 - accuracy: 0.9357 - val_loss: 0.8025 - val_accuracy: 0.7637\n",
      "Epoch 27/100\n",
      "210/210 [==============================] - 6s 27ms/step - loss: 0.2095 - accuracy: 0.9401 - val_loss: 0.7208 - val_accuracy: 0.7836\n",
      "Epoch 28/100\n",
      "210/210 [==============================] - 6s 27ms/step - loss: 0.1999 - accuracy: 0.9421 - val_loss: 0.6198 - val_accuracy: 0.8124\n",
      "Epoch 29/100\n",
      "210/210 [==============================] - 5s 26ms/step - loss: 0.1950 - accuracy: 0.9438 - val_loss: 0.7734 - val_accuracy: 0.7764\n",
      "Epoch 30/100\n",
      "210/210 [==============================] - 6s 27ms/step - loss: 0.1841 - accuracy: 0.9472 - val_loss: 0.6561 - val_accuracy: 0.8080\n",
      "Epoch 31/100\n",
      "210/210 [==============================] - 6s 26ms/step - loss: 0.1788 - accuracy: 0.9494 - val_loss: 0.6076 - val_accuracy: 0.8147\n",
      "Epoch 32/100\n",
      "210/210 [==============================] - 6s 26ms/step - loss: 0.1691 - accuracy: 0.9509 - val_loss: 0.7659 - val_accuracy: 0.7836\n",
      "Epoch 33/100\n",
      "210/210 [==============================] - 5s 26ms/step - loss: 0.1667 - accuracy: 0.9519 - val_loss: 0.6793 - val_accuracy: 0.7929\n",
      "Epoch 34/100\n",
      "210/210 [==============================] - 5s 26ms/step - loss: 0.1543 - accuracy: 0.9550 - val_loss: 0.7892 - val_accuracy: 0.7705\n",
      "Epoch 35/100\n",
      "210/210 [==============================] - 6s 26ms/step - loss: 0.1509 - accuracy: 0.9572 - val_loss: 0.6472 - val_accuracy: 0.8112\n",
      "Epoch 36/100\n",
      "210/210 [==============================] - 6s 26ms/step - loss: 0.1453 - accuracy: 0.9579 - val_loss: 0.6254 - val_accuracy: 0.8203\n",
      "Epoch 37/100\n",
      "210/210 [==============================] - 6s 26ms/step - loss: 0.1424 - accuracy: 0.9589 - val_loss: 0.7903 - val_accuracy: 0.7784\n",
      "Epoch 38/100\n",
      "210/210 [==============================] - 6s 26ms/step - loss: 0.1362 - accuracy: 0.9610 - val_loss: 0.6016 - val_accuracy: 0.8262\n",
      "Epoch 39/100\n",
      "210/210 [==============================] - 6s 27ms/step - loss: 0.1300 - accuracy: 0.9626 - val_loss: 0.7098 - val_accuracy: 0.7999\n",
      "Epoch 40/100\n",
      "210/210 [==============================] - 6s 28ms/step - loss: 0.1184 - accuracy: 0.9669 - val_loss: 0.6897 - val_accuracy: 0.7979\n",
      "Epoch 41/100\n",
      "210/210 [==============================] - 5s 26ms/step - loss: 0.1251 - accuracy: 0.9628 - val_loss: 0.6981 - val_accuracy: 0.7972\n",
      "Epoch 42/100\n",
      "210/210 [==============================] - 6s 26ms/step - loss: 0.1197 - accuracy: 0.9660 - val_loss: 0.7594 - val_accuracy: 0.7860\n",
      "Epoch 43/100\n",
      "210/210 [==============================] - 5s 26ms/step - loss: 0.1172 - accuracy: 0.9655 - val_loss: 1.0159 - val_accuracy: 0.7404\n",
      "Epoch 44/100\n",
      "210/210 [==============================] - 6s 27ms/step - loss: 0.1071 - accuracy: 0.9702 - val_loss: 0.7069 - val_accuracy: 0.8035\n",
      "Epoch 45/100\n",
      "210/210 [==============================] - 5s 26ms/step - loss: 0.1115 - accuracy: 0.9673 - val_loss: 0.7296 - val_accuracy: 0.8014\n",
      "Epoch 46/100\n",
      "210/210 [==============================] - 6s 26ms/step - loss: 0.1082 - accuracy: 0.9679 - val_loss: 0.6624 - val_accuracy: 0.8102\n",
      "Epoch 47/100\n",
      "210/210 [==============================] - 6s 26ms/step - loss: 0.1011 - accuracy: 0.9709 - val_loss: 0.5710 - val_accuracy: 0.8427\n",
      "Epoch 48/100\n",
      "210/210 [==============================] - 6s 26ms/step - loss: 0.0989 - accuracy: 0.9724 - val_loss: 0.8270 - val_accuracy: 0.7912\n",
      "Epoch 49/100\n",
      "210/210 [==============================] - 6s 27ms/step - loss: 0.0903 - accuracy: 0.9745 - val_loss: 0.6651 - val_accuracy: 0.8199\n",
      "Epoch 50/100\n",
      "210/210 [==============================] - 6s 27ms/step - loss: 0.1000 - accuracy: 0.9705 - val_loss: 0.6415 - val_accuracy: 0.8210\n",
      "Epoch 51/100\n",
      "210/210 [==============================] - 6s 27ms/step - loss: 0.0938 - accuracy: 0.9730 - val_loss: 0.5987 - val_accuracy: 0.8337\n",
      "Epoch 52/100\n",
      "210/210 [==============================] - 5s 26ms/step - loss: 0.0897 - accuracy: 0.9739 - val_loss: 0.6534 - val_accuracy: 0.8278\n",
      "Epoch 53/100\n",
      "210/210 [==============================] - 5s 26ms/step - loss: 0.0830 - accuracy: 0.9759 - val_loss: 0.6986 - val_accuracy: 0.8110\n",
      "Epoch 54/100\n",
      "210/210 [==============================] - 6s 26ms/step - loss: 0.0814 - accuracy: 0.9768 - val_loss: 0.6388 - val_accuracy: 0.8278\n",
      "Epoch 55/100\n",
      "210/210 [==============================] - 6s 28ms/step - loss: 0.0839 - accuracy: 0.9753 - val_loss: 1.0686 - val_accuracy: 0.7570\n",
      "Epoch 56/100\n",
      "210/210 [==============================] - 5s 26ms/step - loss: 0.0916 - accuracy: 0.9732 - val_loss: 0.6761 - val_accuracy: 0.8151\n",
      "Epoch 57/100\n",
      "210/210 [==============================] - 5s 26ms/step - loss: 0.0799 - accuracy: 0.9769 - val_loss: 0.8047 - val_accuracy: 0.7961\n",
      "Epoch 58/100\n",
      "210/210 [==============================] - 6s 26ms/step - loss: 0.0808 - accuracy: 0.9768 - val_loss: 0.8736 - val_accuracy: 0.7893\n",
      "Epoch 59/100\n",
      "210/210 [==============================] - 5s 26ms/step - loss: 0.0810 - accuracy: 0.9759 - val_loss: 0.6739 - val_accuracy: 0.8206\n",
      "Epoch 60/100\n",
      "210/210 [==============================] - 6s 26ms/step - loss: 0.0785 - accuracy: 0.9773 - val_loss: 0.8191 - val_accuracy: 0.7981\n",
      "Epoch 61/100\n",
      "210/210 [==============================] - 5s 26ms/step - loss: 0.0656 - accuracy: 0.9815 - val_loss: 0.8071 - val_accuracy: 0.7938\n",
      "Epoch 62/100\n",
      "210/210 [==============================] - 5s 26ms/step - loss: 0.0737 - accuracy: 0.9784 - val_loss: 0.7106 - val_accuracy: 0.8191\n",
      "Epoch 63/100\n",
      "210/210 [==============================] - 6s 26ms/step - loss: 0.0679 - accuracy: 0.9795 - val_loss: 0.6660 - val_accuracy: 0.8208\n",
      "Epoch 64/100\n",
      "210/210 [==============================] - 6s 26ms/step - loss: 0.0725 - accuracy: 0.9790 - val_loss: 0.7956 - val_accuracy: 0.8100\n",
      "Epoch 65/100\n",
      "210/210 [==============================] - 6s 26ms/step - loss: 0.0658 - accuracy: 0.9805 - val_loss: 0.8043 - val_accuracy: 0.8080\n",
      "Epoch 66/100\n",
      "210/210 [==============================] - 5s 26ms/step - loss: 0.0673 - accuracy: 0.9796 - val_loss: 0.7470 - val_accuracy: 0.8097\n",
      "Epoch 67/100\n",
      "210/210 [==============================] - 6s 27ms/step - loss: 0.0662 - accuracy: 0.9801 - val_loss: 0.6463 - val_accuracy: 0.8339\n",
      "Epoch 68/100\n",
      "210/210 [==============================] - 6s 26ms/step - loss: 0.0620 - accuracy: 0.9814 - val_loss: 0.7028 - val_accuracy: 0.8215\n",
      "Epoch 69/100\n",
      "210/210 [==============================] - 6s 26ms/step - loss: 0.0614 - accuracy: 0.9816 - val_loss: 0.9203 - val_accuracy: 0.7869\n",
      "Epoch 70/100\n",
      "210/210 [==============================] - 5s 26ms/step - loss: 0.0639 - accuracy: 0.9810 - val_loss: 0.8458 - val_accuracy: 0.8096\n",
      "Epoch 71/100\n",
      "210/210 [==============================] - 5s 26ms/step - loss: 0.0638 - accuracy: 0.9807 - val_loss: 0.5969 - val_accuracy: 0.8403\n",
      "Epoch 72/100\n",
      "210/210 [==============================] - 6s 26ms/step - loss: 0.0625 - accuracy: 0.9813 - val_loss: 0.8380 - val_accuracy: 0.7955\n",
      "Epoch 73/100\n",
      "210/210 [==============================] - 5s 26ms/step - loss: 0.0611 - accuracy: 0.9816 - val_loss: 0.8192 - val_accuracy: 0.8074\n",
      "Epoch 74/100\n",
      "210/210 [==============================] - 5s 26ms/step - loss: 0.0582 - accuracy: 0.9829 - val_loss: 0.6972 - val_accuracy: 0.8296\n",
      "Epoch 75/100\n",
      "210/210 [==============================] - 5s 26ms/step - loss: 0.0546 - accuracy: 0.9832 - val_loss: 0.7656 - val_accuracy: 0.8163\n",
      "Epoch 76/100\n",
      "210/210 [==============================] - 5s 26ms/step - loss: 0.0570 - accuracy: 0.9830 - val_loss: 0.6507 - val_accuracy: 0.8387\n",
      "Epoch 77/100\n",
      "210/210 [==============================] - 5s 26ms/step - loss: 0.0462 - accuracy: 0.9875 - val_loss: 0.5563 - val_accuracy: 0.8556\n",
      "Epoch 78/100\n",
      "210/210 [==============================] - 6s 27ms/step - loss: 0.0585 - accuracy: 0.9828 - val_loss: 0.7873 - val_accuracy: 0.8098\n",
      "Epoch 79/100\n",
      "210/210 [==============================] - 5s 26ms/step - loss: 0.0601 - accuracy: 0.9815 - val_loss: 0.8152 - val_accuracy: 0.8156\n",
      "Epoch 80/100\n",
      "210/210 [==============================] - 5s 26ms/step - loss: 0.0538 - accuracy: 0.9836 - val_loss: 0.5497 - val_accuracy: 0.8642\n",
      "Epoch 81/100\n",
      "210/210 [==============================] - 5s 26ms/step - loss: 0.0554 - accuracy: 0.9837 - val_loss: 0.7564 - val_accuracy: 0.8167\n",
      "Epoch 82/100\n",
      "210/210 [==============================] - 6s 26ms/step - loss: 0.0482 - accuracy: 0.9854 - val_loss: 0.8447 - val_accuracy: 0.8133\n",
      "Epoch 83/100\n",
      "210/210 [==============================] - 6s 26ms/step - loss: 0.0497 - accuracy: 0.9849 - val_loss: 0.7235 - val_accuracy: 0.8234\n",
      "Epoch 84/100\n",
      "210/210 [==============================] - 6s 26ms/step - loss: 0.0620 - accuracy: 0.9805 - val_loss: 0.7716 - val_accuracy: 0.8224\n",
      "Epoch 85/100\n",
      "210/210 [==============================] - 6s 26ms/step - loss: 0.0548 - accuracy: 0.9827 - val_loss: 0.6480 - val_accuracy: 0.8397\n",
      "Epoch 86/100\n",
      "210/210 [==============================] - 6s 26ms/step - loss: 0.0563 - accuracy: 0.9827 - val_loss: 0.7087 - val_accuracy: 0.8274\n",
      "Epoch 87/100\n",
      "210/210 [==============================] - 5s 26ms/step - loss: 0.0478 - accuracy: 0.9853 - val_loss: 0.5224 - val_accuracy: 0.8706\n",
      "Epoch 88/100\n",
      "210/210 [==============================] - 6s 26ms/step - loss: 0.0439 - accuracy: 0.9871 - val_loss: 0.6871 - val_accuracy: 0.8357\n",
      "Epoch 89/100\n",
      "210/210 [==============================] - 6s 26ms/step - loss: 0.0477 - accuracy: 0.9860 - val_loss: 1.0209 - val_accuracy: 0.7809\n",
      "Epoch 90/100\n",
      "210/210 [==============================] - 5s 26ms/step - loss: 0.0509 - accuracy: 0.9841 - val_loss: 0.9765 - val_accuracy: 0.7876\n",
      "Epoch 91/100\n",
      "210/210 [==============================] - 5s 26ms/step - loss: 0.0505 - accuracy: 0.9844 - val_loss: 0.6356 - val_accuracy: 0.8606\n",
      "Epoch 92/100\n",
      "210/210 [==============================] - 5s 26ms/step - loss: 0.0424 - accuracy: 0.9872 - val_loss: 0.6588 - val_accuracy: 0.8408\n",
      "Epoch 93/100\n",
      "210/210 [==============================] - 5s 26ms/step - loss: 0.0459 - accuracy: 0.9864 - val_loss: 0.8590 - val_accuracy: 0.8051\n",
      "Epoch 94/100\n",
      "210/210 [==============================] - 5s 26ms/step - loss: 0.0439 - accuracy: 0.9863 - val_loss: 0.7525 - val_accuracy: 0.8330\n",
      "Epoch 95/100\n",
      "210/210 [==============================] - 5s 26ms/step - loss: 0.0405 - accuracy: 0.9881 - val_loss: 0.7968 - val_accuracy: 0.8215\n",
      "Epoch 96/100\n",
      "210/210 [==============================] - 6s 26ms/step - loss: 0.0424 - accuracy: 0.9870 - val_loss: 0.7784 - val_accuracy: 0.8217\n",
      "Epoch 97/100\n",
      "210/210 [==============================] - 7s 34ms/step - loss: 0.0525 - accuracy: 0.9828 - val_loss: 1.0783 - val_accuracy: 0.7661\n",
      "Epoch 98/100\n",
      "210/210 [==============================] - 7s 32ms/step - loss: 0.0454 - accuracy: 0.9856 - val_loss: 0.6917 - val_accuracy: 0.8425\n",
      "Epoch 99/100\n",
      "210/210 [==============================] - 5s 26ms/step - loss: 0.0440 - accuracy: 0.9867 - val_loss: 0.5688 - val_accuracy: 0.8618\n",
      "Epoch 100/100\n",
      "210/210 [==============================] - 6s 26ms/step - loss: 0.0406 - accuracy: 0.9875 - val_loss: 0.9171 - val_accuracy: 0.8025\n"
     ]
    },
    {
     "data": {
      "text/plain": [
       "<tensorflow.python.keras.callbacks.History at 0x7f5b29ce6748>"
      ]
     },
     "execution_count": 180,
     "metadata": {
      "tags": []
     },
     "output_type": "execute_result"
    }
   ],
   "source": [
    "#Setting the learning rate\n",
    "adam = optimizers.Adam(lr = 0.0001)\n",
    "# compiling the ANN classifier\n",
    "nn_model2.compile(optimizer = adam, loss = 'categorical_crossentropy', metrics = ['accuracy'])\n",
    "# Fitting the ANN to the Training data\n",
    "nn_model2.fit(X_train, y_train, validation_data=(X_val,y_val),batch_size = 200, epochs = 100, verbose = 1)"
   ]
  },
  {
   "cell_type": "code",
   "execution_count": 181,
   "metadata": {
    "colab": {
     "base_uri": "https://localhost:8080/",
     "height": 51
    },
    "colab_type": "code",
    "id": "UPv_8vOP7tHp",
    "outputId": "ad63f0ee-ef0b-41cd-af91-310b4e3053ef"
   },
   "outputs": [
    {
     "name": "stdout",
     "output_type": "stream",
     "text": [
      "1875/1875 [==============================] - 6s 3ms/step - loss: 0.9171 - accuracy: 0.8025\n",
      "Val_acc using simple NN adam with batch normalisation :  0.8025000095367432\n"
     ]
    }
   ],
   "source": [
    "results_3 = nn_model2.evaluate(X_val, y_val)\n",
    "print('Val_acc using simple NN adam with batch normalisation : ', results_3[1])"
   ]
  },
  {
   "cell_type": "code",
   "execution_count": 182,
   "metadata": {
    "colab": {
     "base_uri": "https://localhost:8080/",
     "height": 173
    },
    "colab_type": "code",
    "id": "1C4JGmOL75HI",
    "outputId": "96e9395c-698f-4a26-8de4-a2114418967a"
   },
   "outputs": [
    {
     "data": {
      "text/html": [
       "<div>\n",
       "<style scoped>\n",
       "    .dataframe tbody tr th:only-of-type {\n",
       "        vertical-align: middle;\n",
       "    }\n",
       "\n",
       "    .dataframe tbody tr th {\n",
       "        vertical-align: top;\n",
       "    }\n",
       "\n",
       "    .dataframe thead th {\n",
       "        text-align: right;\n",
       "    }\n",
       "</style>\n",
       "<table border=\"1\" class=\"dataframe\">\n",
       "  <thead>\n",
       "    <tr style=\"text-align: right;\">\n",
       "      <th></th>\n",
       "      <th>Method</th>\n",
       "      <th>accuracy</th>\n",
       "    </tr>\n",
       "  </thead>\n",
       "  <tbody>\n",
       "    <tr>\n",
       "      <th>1</th>\n",
       "      <td>NN with SGD Optimizer</td>\n",
       "      <td>0.343300</td>\n",
       "    </tr>\n",
       "    <tr>\n",
       "      <th>2</th>\n",
       "      <td>NN with Adam Optimizer</td>\n",
       "      <td>0.761950</td>\n",
       "    </tr>\n",
       "    <tr>\n",
       "      <th>3</th>\n",
       "      <td>NN with Adam Optimizer with LR</td>\n",
       "      <td>0.890033</td>\n",
       "    </tr>\n",
       "    <tr>\n",
       "      <th>4</th>\n",
       "      <td>NN with Adam Optimizer with batch normalisation</td>\n",
       "      <td>0.802500</td>\n",
       "    </tr>\n",
       "  </tbody>\n",
       "</table>\n",
       "</div>"
      ],
      "text/plain": [
       "                                            Method  accuracy\n",
       "1                            NN with SGD Optimizer  0.343300\n",
       "2                           NN with Adam Optimizer  0.761950\n",
       "3                   NN with Adam Optimizer with LR  0.890033\n",
       "4  NN with Adam Optimizer with batch normalisation  0.802500"
      ]
     },
     "execution_count": 182,
     "metadata": {
      "tags": []
     },
     "output_type": "execute_result"
    }
   ],
   "source": [
    "result_df = pd.DataFrame({'Method':['NN with Adam Optimizer with batch normalisation'], 'accuracy': [results_3[1]]},index={'4'})\n",
    "results_on_val= pd.concat([results_on_val, result_df])\n",
    "results_on_val = results_on_val[['Method', 'accuracy']]\n",
    "results_on_val"
   ]
  },
  {
   "cell_type": "markdown",
   "metadata": {
    "colab_type": "text",
    "id": "-uAQLxgj7iwe"
   },
   "source": [
    "<font color= Navy > **Batch normalisation has reduced model accuracy and also model is overfitting on training data. Trying dropout layer to stop overfitting** </font>"
   ]
  },
  {
   "cell_type": "markdown",
   "metadata": {
    "colab_type": "text",
    "id": "SD9nzFGOMqyr"
   },
   "source": [
    "<font color= Navy > **Adding dropout layer with 0.2** </font>"
   ]
  },
  {
   "cell_type": "markdown",
   "metadata": {},
   "source": [
    "<a id='dl'></a>"
   ]
  },
  {
   "cell_type": "markdown",
   "metadata": {
    "colab_type": "text",
    "id": "wX4X8-I88oIl"
   },
   "source": [
    "## <font color= Navy > Implementing Batch Normalisation With Dropout Layer </font>"
   ]
  },
  {
   "cell_type": "code",
   "execution_count": 184,
   "metadata": {
    "colab": {},
    "colab_type": "code",
    "id": "VPcnxSeH5GfV"
   },
   "outputs": [],
   "source": [
    "nn_model3 = Sequential()\n",
    "\n",
    "# Input Layer\n",
    "#Adding Input layer and activation functions ReLU\n",
    "nn_model3.add(Dense(512,input_shape = (1024,)))\n",
    "nn_model3.add(BatchNormalization())\n",
    "nn_model3.add(Activation('relu'))\n",
    "#Adding Dropout Layer\n",
    "nn_model3.add(Dropout(0.2))\n",
    "\n",
    "#Hidden Layer 1\n",
    "nn_model3.add(Dense(256))\n",
    "nn_model3.add(BatchNormalization())\n",
    "nn_model3.add(Activation('relu'))\n",
    "#Adding Dropout Layer\n",
    "nn_model3.add(Dropout(0.2))\n",
    "\n",
    "# # #Hidden Layer 2\n",
    "nn_model3.add(Dense(128))\n",
    "nn_model3.add(BatchNormalization())\n",
    "nn_model3.add(Activation('relu'))\n",
    "#Adding Dropout Layer\n",
    "nn_model3.add(Dropout(0.2))\n",
    "\n",
    "# # #Hidden Layer 3\n",
    "nn_model3.add(Dense(64))\n",
    "nn_model3.add(BatchNormalization())\n",
    "nn_model3.add(Activation('relu'))\n",
    "#Adding Dropout Layer\n",
    "nn_model3.add(Dropout(0.2))\n",
    "\n",
    "# #Hidden Layer 4\n",
    "nn_model3.add(Dense(32))\n",
    "nn_model3.add(BatchNormalization())\n",
    "nn_model3.add(Activation('relu'))\n",
    "nn_model3.add(Dropout(0.2))\n",
    "\n",
    "# Output Layer\n",
    "nn_model3.add(Dense(10))\n",
    "#Adding Activation function\n",
    "nn_model3.add(Activation('softmax'))"
   ]
  },
  {
   "cell_type": "code",
   "execution_count": 185,
   "metadata": {
    "colab": {
     "base_uri": "https://localhost:8080/",
     "height": 901
    },
    "colab_type": "code",
    "id": "nMwlgIIM-XgM",
    "outputId": "b196dbe9-e455-47c2-dcd3-d9bd468bd796"
   },
   "outputs": [
    {
     "name": "stdout",
     "output_type": "stream",
     "text": [
      "Model: \"sequential_22\"\n",
      "_________________________________________________________________\n",
      "Layer (type)                 Output Shape              Param #   \n",
      "=================================================================\n",
      "dense_99 (Dense)             (None, 512)               524800    \n",
      "_________________________________________________________________\n",
      "batch_normalization_10 (Batc (None, 512)               2048      \n",
      "_________________________________________________________________\n",
      "activation_91 (Activation)   (None, 512)               0         \n",
      "_________________________________________________________________\n",
      "dropout_4 (Dropout)          (None, 512)               0         \n",
      "_________________________________________________________________\n",
      "dense_100 (Dense)            (None, 256)               131328    \n",
      "_________________________________________________________________\n",
      "batch_normalization_11 (Batc (None, 256)               1024      \n",
      "_________________________________________________________________\n",
      "activation_92 (Activation)   (None, 256)               0         \n",
      "_________________________________________________________________\n",
      "dropout_5 (Dropout)          (None, 256)               0         \n",
      "_________________________________________________________________\n",
      "dense_101 (Dense)            (None, 128)               32896     \n",
      "_________________________________________________________________\n",
      "batch_normalization_12 (Batc (None, 128)               512       \n",
      "_________________________________________________________________\n",
      "activation_93 (Activation)   (None, 128)               0         \n",
      "_________________________________________________________________\n",
      "dropout_6 (Dropout)          (None, 128)               0         \n",
      "_________________________________________________________________\n",
      "dense_102 (Dense)            (None, 64)                8256      \n",
      "_________________________________________________________________\n",
      "batch_normalization_13 (Batc (None, 64)                256       \n",
      "_________________________________________________________________\n",
      "activation_94 (Activation)   (None, 64)                0         \n",
      "_________________________________________________________________\n",
      "dropout_7 (Dropout)          (None, 64)                0         \n",
      "_________________________________________________________________\n",
      "dense_103 (Dense)            (None, 32)                2080      \n",
      "_________________________________________________________________\n",
      "batch_normalization_14 (Batc (None, 32)                128       \n",
      "_________________________________________________________________\n",
      "activation_95 (Activation)   (None, 32)                0         \n",
      "_________________________________________________________________\n",
      "dropout_8 (Dropout)          (None, 32)                0         \n",
      "_________________________________________________________________\n",
      "dense_104 (Dense)            (None, 10)                330       \n",
      "_________________________________________________________________\n",
      "activation_96 (Activation)   (None, 10)                0         \n",
      "=================================================================\n",
      "Total params: 703,658\n",
      "Trainable params: 701,674\n",
      "Non-trainable params: 1,984\n",
      "_________________________________________________________________\n"
     ]
    }
   ],
   "source": [
    "nn_model3.summary()"
   ]
  },
  {
   "cell_type": "code",
   "execution_count": 186,
   "metadata": {
    "colab": {
     "base_uri": "https://localhost:8080/",
     "height": 1000
    },
    "colab_type": "code",
    "id": "WYNqMkXv-IHM",
    "outputId": "41e19a46-cd21-4fb6-97b6-0e18e680aab9"
   },
   "outputs": [
    {
     "name": "stdout",
     "output_type": "stream",
     "text": [
      "Epoch 1/100\n",
      "210/210 [==============================] - 6s 29ms/step - loss: 2.5352 - accuracy: 0.1158 - val_loss: 2.2662 - val_accuracy: 0.1521\n",
      "Epoch 2/100\n",
      "210/210 [==============================] - 6s 28ms/step - loss: 2.2851 - accuracy: 0.1762 - val_loss: 2.0835 - val_accuracy: 0.2682\n",
      "Epoch 3/100\n",
      "210/210 [==============================] - 6s 28ms/step - loss: 2.0769 - accuracy: 0.2557 - val_loss: 1.8691 - val_accuracy: 0.3807\n",
      "Epoch 4/100\n",
      "210/210 [==============================] - 6s 28ms/step - loss: 1.8980 - accuracy: 0.3305 - val_loss: 1.6748 - val_accuracy: 0.4862\n",
      "Epoch 5/100\n",
      "210/210 [==============================] - 6s 29ms/step - loss: 1.7482 - accuracy: 0.3994 - val_loss: 1.5539 - val_accuracy: 0.5402\n",
      "Epoch 6/100\n",
      "210/210 [==============================] - 6s 28ms/step - loss: 1.6163 - accuracy: 0.4662 - val_loss: 1.4717 - val_accuracy: 0.5676\n",
      "Epoch 7/100\n",
      "210/210 [==============================] - 6s 28ms/step - loss: 1.5009 - accuracy: 0.5148 - val_loss: 1.3008 - val_accuracy: 0.6347\n",
      "Epoch 8/100\n",
      "210/210 [==============================] - 6s 28ms/step - loss: 1.3979 - accuracy: 0.5581 - val_loss: 1.1816 - val_accuracy: 0.6568\n",
      "Epoch 9/100\n",
      "210/210 [==============================] - 6s 28ms/step - loss: 1.3093 - accuracy: 0.5966 - val_loss: 1.2032 - val_accuracy: 0.6424\n",
      "Epoch 10/100\n",
      "210/210 [==============================] - 6s 29ms/step - loss: 1.2372 - accuracy: 0.6206 - val_loss: 1.0587 - val_accuracy: 0.6875\n",
      "Epoch 11/100\n",
      "210/210 [==============================] - 6s 28ms/step - loss: 1.1676 - accuracy: 0.6424 - val_loss: 1.0406 - val_accuracy: 0.6966\n",
      "Epoch 12/100\n",
      "210/210 [==============================] - 6s 29ms/step - loss: 1.1104 - accuracy: 0.6605 - val_loss: 1.0338 - val_accuracy: 0.6853\n",
      "Epoch 13/100\n",
      "210/210 [==============================] - 6s 28ms/step - loss: 1.0622 - accuracy: 0.6766 - val_loss: 0.8958 - val_accuracy: 0.7401\n",
      "Epoch 14/100\n",
      "210/210 [==============================] - 6s 29ms/step - loss: 1.0122 - accuracy: 0.6925 - val_loss: 0.8346 - val_accuracy: 0.7560\n",
      "Epoch 15/100\n",
      "210/210 [==============================] - 6s 28ms/step - loss: 0.9720 - accuracy: 0.7063 - val_loss: 0.8377 - val_accuracy: 0.7554\n",
      "Epoch 16/100\n",
      "210/210 [==============================] - 6s 29ms/step - loss: 0.9400 - accuracy: 0.7175 - val_loss: 0.8091 - val_accuracy: 0.7558\n",
      "Epoch 17/100\n",
      "210/210 [==============================] - 6s 28ms/step - loss: 0.9086 - accuracy: 0.7270 - val_loss: 0.8139 - val_accuracy: 0.7527\n",
      "Epoch 18/100\n",
      "210/210 [==============================] - 6s 28ms/step - loss: 0.8842 - accuracy: 0.7315 - val_loss: 0.8312 - val_accuracy: 0.7469\n",
      "Epoch 19/100\n",
      "210/210 [==============================] - 6s 28ms/step - loss: 0.8579 - accuracy: 0.7407 - val_loss: 0.8270 - val_accuracy: 0.7382\n",
      "Epoch 20/100\n",
      "210/210 [==============================] - 6s 28ms/step - loss: 0.8362 - accuracy: 0.7486 - val_loss: 0.6912 - val_accuracy: 0.7949\n",
      "Epoch 21/100\n",
      "210/210 [==============================] - 6s 30ms/step - loss: 0.8121 - accuracy: 0.7580 - val_loss: 0.7892 - val_accuracy: 0.7494\n",
      "Epoch 22/100\n",
      "210/210 [==============================] - 7s 32ms/step - loss: 0.7995 - accuracy: 0.7609 - val_loss: 0.7495 - val_accuracy: 0.7669\n",
      "Epoch 23/100\n",
      "210/210 [==============================] - 6s 29ms/step - loss: 0.7736 - accuracy: 0.7695 - val_loss: 0.7680 - val_accuracy: 0.7671\n",
      "Epoch 24/100\n",
      "210/210 [==============================] - 6s 28ms/step - loss: 0.7626 - accuracy: 0.7711 - val_loss: 0.6143 - val_accuracy: 0.8138\n",
      "Epoch 25/100\n",
      "210/210 [==============================] - 6s 28ms/step - loss: 0.7447 - accuracy: 0.7775 - val_loss: 0.6735 - val_accuracy: 0.7935\n",
      "Epoch 26/100\n",
      "210/210 [==============================] - 6s 29ms/step - loss: 0.7341 - accuracy: 0.7820 - val_loss: 0.6662 - val_accuracy: 0.7932\n",
      "Epoch 27/100\n",
      "210/210 [==============================] - 6s 28ms/step - loss: 0.7243 - accuracy: 0.7840 - val_loss: 0.6583 - val_accuracy: 0.7954\n",
      "Epoch 28/100\n",
      "210/210 [==============================] - 6s 29ms/step - loss: 0.7104 - accuracy: 0.7876 - val_loss: 0.7313 - val_accuracy: 0.7697\n",
      "Epoch 29/100\n",
      "210/210 [==============================] - 6s 28ms/step - loss: 0.6875 - accuracy: 0.7941 - val_loss: 0.6343 - val_accuracy: 0.8012\n",
      "Epoch 30/100\n",
      "210/210 [==============================] - 6s 29ms/step - loss: 0.6915 - accuracy: 0.7932 - val_loss: 0.5518 - val_accuracy: 0.8377\n",
      "Epoch 31/100\n",
      "210/210 [==============================] - 6s 28ms/step - loss: 0.6678 - accuracy: 0.8013 - val_loss: 0.6165 - val_accuracy: 0.8022\n",
      "Epoch 32/100\n",
      "210/210 [==============================] - 6s 28ms/step - loss: 0.6682 - accuracy: 0.8006 - val_loss: 0.6115 - val_accuracy: 0.8047\n",
      "Epoch 33/100\n",
      "210/210 [==============================] - 6s 28ms/step - loss: 0.6567 - accuracy: 0.8057 - val_loss: 0.5294 - val_accuracy: 0.8418\n",
      "Epoch 34/100\n",
      "210/210 [==============================] - 6s 28ms/step - loss: 0.6519 - accuracy: 0.8079 - val_loss: 0.6109 - val_accuracy: 0.8129\n",
      "Epoch 35/100\n",
      "210/210 [==============================] - 6s 29ms/step - loss: 0.6389 - accuracy: 0.8087 - val_loss: 0.5766 - val_accuracy: 0.8232\n",
      "Epoch 36/100\n",
      "210/210 [==============================] - 6s 28ms/step - loss: 0.6337 - accuracy: 0.8118 - val_loss: 0.6731 - val_accuracy: 0.7919\n",
      "Epoch 37/100\n",
      "210/210 [==============================] - 6s 29ms/step - loss: 0.6248 - accuracy: 0.8141 - val_loss: 0.5616 - val_accuracy: 0.8242\n",
      "Epoch 38/100\n",
      "210/210 [==============================] - 6s 28ms/step - loss: 0.6169 - accuracy: 0.8167 - val_loss: 0.7397 - val_accuracy: 0.7664\n",
      "Epoch 39/100\n",
      "210/210 [==============================] - 6s 29ms/step - loss: 0.6050 - accuracy: 0.8203 - val_loss: 0.5803 - val_accuracy: 0.8180\n",
      "Epoch 40/100\n",
      "210/210 [==============================] - 6s 29ms/step - loss: 0.5988 - accuracy: 0.8220 - val_loss: 0.6325 - val_accuracy: 0.8007\n",
      "Epoch 41/100\n",
      "210/210 [==============================] - 6s 28ms/step - loss: 0.5995 - accuracy: 0.8213 - val_loss: 0.6308 - val_accuracy: 0.8027\n",
      "Epoch 42/100\n",
      "210/210 [==============================] - 6s 28ms/step - loss: 0.5937 - accuracy: 0.8242 - val_loss: 0.6317 - val_accuracy: 0.8048\n",
      "Epoch 43/100\n",
      "210/210 [==============================] - 6s 28ms/step - loss: 0.5850 - accuracy: 0.8271 - val_loss: 0.7704 - val_accuracy: 0.7643\n",
      "Epoch 44/100\n",
      "210/210 [==============================] - 6s 29ms/step - loss: 0.5772 - accuracy: 0.8304 - val_loss: 0.5887 - val_accuracy: 0.8143\n",
      "Epoch 45/100\n",
      "210/210 [==============================] - 6s 28ms/step - loss: 0.5618 - accuracy: 0.8340 - val_loss: 0.6134 - val_accuracy: 0.8109\n",
      "Epoch 46/100\n",
      "210/210 [==============================] - 6s 29ms/step - loss: 0.5612 - accuracy: 0.8321 - val_loss: 0.5637 - val_accuracy: 0.8229\n",
      "Epoch 47/100\n",
      "210/210 [==============================] - 6s 29ms/step - loss: 0.5558 - accuracy: 0.8359 - val_loss: 0.4588 - val_accuracy: 0.8599\n",
      "Epoch 48/100\n",
      "210/210 [==============================] - 6s 28ms/step - loss: 0.5550 - accuracy: 0.8360 - val_loss: 0.5107 - val_accuracy: 0.8418\n",
      "Epoch 49/100\n",
      "210/210 [==============================] - 6s 28ms/step - loss: 0.5498 - accuracy: 0.8363 - val_loss: 0.4850 - val_accuracy: 0.8525\n",
      "Epoch 50/100\n",
      "210/210 [==============================] - 6s 29ms/step - loss: 0.5451 - accuracy: 0.8392 - val_loss: 0.5925 - val_accuracy: 0.8148\n",
      "Epoch 51/100\n",
      "210/210 [==============================] - 6s 28ms/step - loss: 0.5405 - accuracy: 0.8387 - val_loss: 0.5110 - val_accuracy: 0.8393\n",
      "Epoch 52/100\n",
      "210/210 [==============================] - 6s 28ms/step - loss: 0.5339 - accuracy: 0.8426 - val_loss: 0.4530 - val_accuracy: 0.8632\n",
      "Epoch 53/100\n",
      "210/210 [==============================] - 6s 28ms/step - loss: 0.5237 - accuracy: 0.8465 - val_loss: 0.5967 - val_accuracy: 0.8102\n",
      "Epoch 54/100\n",
      "210/210 [==============================] - 6s 28ms/step - loss: 0.5167 - accuracy: 0.8474 - val_loss: 0.4768 - val_accuracy: 0.8538\n",
      "Epoch 55/100\n",
      "210/210 [==============================] - 6s 29ms/step - loss: 0.5153 - accuracy: 0.8468 - val_loss: 0.6510 - val_accuracy: 0.7989\n",
      "Epoch 56/100\n",
      "210/210 [==============================] - 6s 28ms/step - loss: 0.5166 - accuracy: 0.8465 - val_loss: 0.5440 - val_accuracy: 0.8259\n",
      "Epoch 57/100\n",
      "210/210 [==============================] - 6s 28ms/step - loss: 0.5146 - accuracy: 0.8487 - val_loss: 0.4781 - val_accuracy: 0.8528\n",
      "Epoch 58/100\n",
      "210/210 [==============================] - 6s 29ms/step - loss: 0.5080 - accuracy: 0.8484 - val_loss: 0.5381 - val_accuracy: 0.8297\n",
      "Epoch 59/100\n",
      "210/210 [==============================] - 9s 42ms/step - loss: 0.5150 - accuracy: 0.8486 - val_loss: 0.5427 - val_accuracy: 0.8246\n",
      "Epoch 60/100\n",
      "210/210 [==============================] - 6s 31ms/step - loss: 0.5050 - accuracy: 0.8510 - val_loss: 0.5331 - val_accuracy: 0.8341\n",
      "Epoch 61/100\n",
      "210/210 [==============================] - 6s 28ms/step - loss: 0.4919 - accuracy: 0.8537 - val_loss: 0.5878 - val_accuracy: 0.8157\n",
      "Epoch 62/100\n",
      "210/210 [==============================] - 6s 28ms/step - loss: 0.4984 - accuracy: 0.8520 - val_loss: 0.6056 - val_accuracy: 0.8089\n",
      "Epoch 63/100\n",
      "210/210 [==============================] - 6s 29ms/step - loss: 0.4874 - accuracy: 0.8577 - val_loss: 0.5608 - val_accuracy: 0.8250\n",
      "Epoch 64/100\n",
      "210/210 [==============================] - 6s 28ms/step - loss: 0.4914 - accuracy: 0.8547 - val_loss: 0.5060 - val_accuracy: 0.8392\n",
      "Epoch 65/100\n",
      "210/210 [==============================] - 6s 28ms/step - loss: 0.4804 - accuracy: 0.8579 - val_loss: 0.5079 - val_accuracy: 0.8391\n",
      "Epoch 66/100\n",
      "210/210 [==============================] - 6s 28ms/step - loss: 0.4822 - accuracy: 0.8585 - val_loss: 0.4295 - val_accuracy: 0.8695\n",
      "Epoch 67/100\n",
      "210/210 [==============================] - 6s 28ms/step - loss: 0.4742 - accuracy: 0.8600 - val_loss: 0.5376 - val_accuracy: 0.8278\n",
      "Epoch 68/100\n",
      "210/210 [==============================] - 6s 28ms/step - loss: 0.4757 - accuracy: 0.8587 - val_loss: 0.4585 - val_accuracy: 0.8591\n",
      "Epoch 69/100\n",
      "210/210 [==============================] - 6s 28ms/step - loss: 0.4707 - accuracy: 0.8593 - val_loss: 0.4804 - val_accuracy: 0.8508\n",
      "Epoch 70/100\n",
      "210/210 [==============================] - 6s 29ms/step - loss: 0.4674 - accuracy: 0.8617 - val_loss: 0.4621 - val_accuracy: 0.8581\n",
      "Epoch 71/100\n",
      "210/210 [==============================] - 6s 28ms/step - loss: 0.4723 - accuracy: 0.8616 - val_loss: 0.4928 - val_accuracy: 0.8433\n",
      "Epoch 72/100\n",
      "210/210 [==============================] - 6s 30ms/step - loss: 0.4631 - accuracy: 0.8636 - val_loss: 0.5543 - val_accuracy: 0.8281\n",
      "Epoch 73/100\n",
      "210/210 [==============================] - 7s 31ms/step - loss: 0.4558 - accuracy: 0.8653 - val_loss: 0.4528 - val_accuracy: 0.8602\n",
      "Epoch 74/100\n",
      "210/210 [==============================] - 6s 29ms/step - loss: 0.4571 - accuracy: 0.8659 - val_loss: 0.4072 - val_accuracy: 0.8756\n",
      "Epoch 75/100\n",
      "210/210 [==============================] - 6s 28ms/step - loss: 0.4570 - accuracy: 0.8650 - val_loss: 0.3856 - val_accuracy: 0.8824\n",
      "Epoch 76/100\n",
      "210/210 [==============================] - 6s 28ms/step - loss: 0.4519 - accuracy: 0.8679 - val_loss: 0.4792 - val_accuracy: 0.8497\n",
      "Epoch 77/100\n",
      "210/210 [==============================] - 6s 28ms/step - loss: 0.4513 - accuracy: 0.8671 - val_loss: 0.5467 - val_accuracy: 0.8317\n",
      "Epoch 78/100\n",
      "210/210 [==============================] - 6s 28ms/step - loss: 0.4420 - accuracy: 0.8699 - val_loss: 0.4042 - val_accuracy: 0.8750\n",
      "Epoch 79/100\n",
      "210/210 [==============================] - 6s 29ms/step - loss: 0.4425 - accuracy: 0.8702 - val_loss: 0.5308 - val_accuracy: 0.8385\n",
      "Epoch 80/100\n",
      "210/210 [==============================] - 6s 28ms/step - loss: 0.4431 - accuracy: 0.8681 - val_loss: 0.4480 - val_accuracy: 0.8618\n",
      "Epoch 81/100\n",
      "210/210 [==============================] - 6s 28ms/step - loss: 0.4387 - accuracy: 0.8699 - val_loss: 0.4770 - val_accuracy: 0.8501\n",
      "Epoch 82/100\n",
      "210/210 [==============================] - 6s 29ms/step - loss: 0.4321 - accuracy: 0.8722 - val_loss: 0.4896 - val_accuracy: 0.8481\n",
      "Epoch 83/100\n",
      "210/210 [==============================] - 6s 28ms/step - loss: 0.4294 - accuracy: 0.8751 - val_loss: 0.4334 - val_accuracy: 0.8647\n",
      "Epoch 84/100\n",
      "210/210 [==============================] - 6s 28ms/step - loss: 0.4355 - accuracy: 0.8712 - val_loss: 0.4738 - val_accuracy: 0.8507\n",
      "Epoch 85/100\n",
      "210/210 [==============================] - 6s 28ms/step - loss: 0.4323 - accuracy: 0.8718 - val_loss: 0.4978 - val_accuracy: 0.8480\n",
      "Epoch 86/100\n",
      "210/210 [==============================] - 6s 28ms/step - loss: 0.4249 - accuracy: 0.8742 - val_loss: 0.3979 - val_accuracy: 0.8778\n",
      "Epoch 87/100\n",
      "210/210 [==============================] - 6s 28ms/step - loss: 0.4209 - accuracy: 0.8754 - val_loss: 0.4058 - val_accuracy: 0.8731\n",
      "Epoch 88/100\n",
      "210/210 [==============================] - 6s 28ms/step - loss: 0.4144 - accuracy: 0.8786 - val_loss: 0.4062 - val_accuracy: 0.8783\n",
      "Epoch 89/100\n",
      "210/210 [==============================] - 6s 28ms/step - loss: 0.4232 - accuracy: 0.8764 - val_loss: 0.4564 - val_accuracy: 0.8585\n",
      "Epoch 90/100\n",
      "210/210 [==============================] - 6s 28ms/step - loss: 0.4121 - accuracy: 0.8800 - val_loss: 0.5204 - val_accuracy: 0.8383\n",
      "Epoch 91/100\n",
      "210/210 [==============================] - 6s 29ms/step - loss: 0.4134 - accuracy: 0.8798 - val_loss: 0.4064 - val_accuracy: 0.8768\n",
      "Epoch 92/100\n",
      "210/210 [==============================] - 6s 28ms/step - loss: 0.4163 - accuracy: 0.8783 - val_loss: 0.5155 - val_accuracy: 0.8353\n",
      "Epoch 93/100\n",
      "210/210 [==============================] - 6s 28ms/step - loss: 0.4180 - accuracy: 0.8778 - val_loss: 0.4529 - val_accuracy: 0.8570\n",
      "Epoch 94/100\n",
      "210/210 [==============================] - 6s 28ms/step - loss: 0.4010 - accuracy: 0.8823 - val_loss: 0.4862 - val_accuracy: 0.8512\n",
      "Epoch 95/100\n",
      "210/210 [==============================] - 6s 29ms/step - loss: 0.4010 - accuracy: 0.8825 - val_loss: 0.3733 - val_accuracy: 0.8878\n",
      "Epoch 96/100\n",
      "210/210 [==============================] - 6s 29ms/step - loss: 0.4037 - accuracy: 0.8827 - val_loss: 0.4156 - val_accuracy: 0.8716\n",
      "Epoch 97/100\n",
      "210/210 [==============================] - 6s 28ms/step - loss: 0.3982 - accuracy: 0.8830 - val_loss: 0.5325 - val_accuracy: 0.8399\n",
      "Epoch 98/100\n",
      "210/210 [==============================] - 6s 28ms/step - loss: 0.3977 - accuracy: 0.8824 - val_loss: 0.4399 - val_accuracy: 0.8644\n",
      "Epoch 99/100\n",
      "210/210 [==============================] - 6s 28ms/step - loss: 0.4011 - accuracy: 0.8813 - val_loss: 0.4208 - val_accuracy: 0.8679\n",
      "Epoch 100/100\n",
      "210/210 [==============================] - 6s 29ms/step - loss: 0.4004 - accuracy: 0.8825 - val_loss: 0.4118 - val_accuracy: 0.8718\n"
     ]
    },
    {
     "data": {
      "text/plain": [
       "<tensorflow.python.keras.callbacks.History at 0x7f5b17f72d30>"
      ]
     },
     "execution_count": 186,
     "metadata": {
      "tags": []
     },
     "output_type": "execute_result"
    }
   ],
   "source": [
    "adam = optimizers.Adam(lr = 0.0001)\n",
    "nn_model3.compile(optimizer = adam, loss = 'categorical_crossentropy', metrics = ['accuracy'])\n",
    "# Fitting the model to the Training data\n",
    "nn_model3.fit(X_train, y_train, validation_data=(X_val,y_val),batch_size = 200, epochs = 100, verbose = 1)"
   ]
  },
  {
   "cell_type": "code",
   "execution_count": 187,
   "metadata": {
    "colab": {
     "base_uri": "https://localhost:8080/",
     "height": 51
    },
    "colab_type": "code",
    "id": "hFn4uSpx-do3",
    "outputId": "d528c235-8744-4f90-c731-7aed11916742"
   },
   "outputs": [
    {
     "name": "stdout",
     "output_type": "stream",
     "text": [
      "1875/1875 [==============================] - 6s 3ms/step - loss: 0.4118 - accuracy: 0.8718\n",
      "Val_acc using NN adam with batch normalisation and dropout :  0.8717833161354065\n"
     ]
    }
   ],
   "source": [
    "results_4 = nn_model3.evaluate(X_val, y_val)\n",
    "print('Val_acc using NN adam with batch normalisation and dropout : ', results_4[1])"
   ]
  },
  {
   "cell_type": "code",
   "execution_count": 188,
   "metadata": {
    "colab": {
     "base_uri": "https://localhost:8080/",
     "height": 204
    },
    "colab_type": "code",
    "id": "qhtnS5x8FU50",
    "outputId": "70a49a67-f46b-4d18-c168-b0c2331c5eda"
   },
   "outputs": [
    {
     "data": {
      "text/html": [
       "<div>\n",
       "<style scoped>\n",
       "    .dataframe tbody tr th:only-of-type {\n",
       "        vertical-align: middle;\n",
       "    }\n",
       "\n",
       "    .dataframe tbody tr th {\n",
       "        vertical-align: top;\n",
       "    }\n",
       "\n",
       "    .dataframe thead th {\n",
       "        text-align: right;\n",
       "    }\n",
       "</style>\n",
       "<table border=\"1\" class=\"dataframe\">\n",
       "  <thead>\n",
       "    <tr style=\"text-align: right;\">\n",
       "      <th></th>\n",
       "      <th>Method</th>\n",
       "      <th>accuracy</th>\n",
       "    </tr>\n",
       "  </thead>\n",
       "  <tbody>\n",
       "    <tr>\n",
       "      <th>1</th>\n",
       "      <td>NN with SGD Optimizer</td>\n",
       "      <td>0.343300</td>\n",
       "    </tr>\n",
       "    <tr>\n",
       "      <th>2</th>\n",
       "      <td>NN with Adam Optimizer</td>\n",
       "      <td>0.761950</td>\n",
       "    </tr>\n",
       "    <tr>\n",
       "      <th>3</th>\n",
       "      <td>NN with Adam Optimizer with LR</td>\n",
       "      <td>0.890033</td>\n",
       "    </tr>\n",
       "    <tr>\n",
       "      <th>4</th>\n",
       "      <td>NN with Adam Optimizer with batch normalisation</td>\n",
       "      <td>0.802500</td>\n",
       "    </tr>\n",
       "    <tr>\n",
       "      <th>5</th>\n",
       "      <td>NN with Adam Optimizer with batch normalisatio...</td>\n",
       "      <td>0.871783</td>\n",
       "    </tr>\n",
       "  </tbody>\n",
       "</table>\n",
       "</div>"
      ],
      "text/plain": [
       "                                              Method  accuracy\n",
       "1                              NN with SGD Optimizer  0.343300\n",
       "2                             NN with Adam Optimizer  0.761950\n",
       "3                     NN with Adam Optimizer with LR  0.890033\n",
       "4    NN with Adam Optimizer with batch normalisation  0.802500\n",
       "5  NN with Adam Optimizer with batch normalisatio...  0.871783"
      ]
     },
     "execution_count": 188,
     "metadata": {
      "tags": []
     },
     "output_type": "execute_result"
    }
   ],
   "source": [
    "result_df = pd.DataFrame({'Method':['NN with Adam Optimizer with batch normalisation and dropout'], 'accuracy': [results_4[1]]},index={'5'})\n",
    "results_on_val= pd.concat([results_on_val, result_df])\n",
    "results_on_val = results_on_val[['Method', 'accuracy']]\n",
    "results_on_val"
   ]
  },
  {
   "cell_type": "markdown",
   "metadata": {
    "colab_type": "text",
    "id": "Xh7Bcza-E5lm"
   },
   "source": [
    "<font color= Navy > **Overfitting has dropped significantly using dropout layer. Also accuracy is pretty much close to what we had using method 3** </font>"
   ]
  },
  {
   "cell_type": "markdown",
   "metadata": {},
   "source": [
    "<a id='pred'></a>"
   ]
  },
  {
   "cell_type": "markdown",
   "metadata": {
    "colab_type": "text",
    "id": "bFN90anzGQan"
   },
   "source": [
    "## <font color= Navy > Performance and Prediction on Test data for method 3 and 5 </font>"
   ]
  },
  {
   "cell_type": "markdown",
   "metadata": {
    "colab_type": "text",
    "id": "uaus6pjhG-Az"
   },
   "source": [
    "### <font color= Navy > Method 3 </font>"
   ]
  },
  {
   "cell_type": "code",
   "execution_count": 189,
   "metadata": {
    "colab": {
     "base_uri": "https://localhost:8080/",
     "height": 51
    },
    "colab_type": "code",
    "id": "TqtpqB4cFlXm",
    "outputId": "e4e66ece-9dec-4d58-f98a-b75231ba228e"
   },
   "outputs": [
    {
     "name": "stdout",
     "output_type": "stream",
     "text": [
      "563/563 [==============================] - 3s 5ms/step - loss: 0.6926 - accuracy: 0.8219\n",
      "Test accuracy for method 3 (NN with Adam Optimizer with LR) :  0.8218888640403748\n"
     ]
    }
   ],
   "source": [
    "test_result_1 = nn_model1.evaluate(X_test, y_test)\n",
    "print('Test accuracy for method 3 (NN with Adam Optimizer with LR) : ', test_result_1[1])"
   ]
  },
  {
   "cell_type": "code",
   "execution_count": 212,
   "metadata": {
    "colab": {
     "base_uri": "https://localhost:8080/",
     "height": 80
    },
    "colab_type": "code",
    "id": "C8uFbQTRIfsN",
    "outputId": "64aced89-a044-4e4e-b375-d0fa76c7e30a"
   },
   "outputs": [
    {
     "data": {
      "text/html": [
       "<div>\n",
       "<style scoped>\n",
       "    .dataframe tbody tr th:only-of-type {\n",
       "        vertical-align: middle;\n",
       "    }\n",
       "\n",
       "    .dataframe tbody tr th {\n",
       "        vertical-align: top;\n",
       "    }\n",
       "\n",
       "    .dataframe thead th {\n",
       "        text-align: right;\n",
       "    }\n",
       "</style>\n",
       "<table border=\"1\" class=\"dataframe\">\n",
       "  <thead>\n",
       "    <tr style=\"text-align: right;\">\n",
       "      <th></th>\n",
       "      <th>Method</th>\n",
       "      <th>Desc</th>\n",
       "      <th>accuracy</th>\n",
       "    </tr>\n",
       "  </thead>\n",
       "  <tbody>\n",
       "    <tr>\n",
       "      <th>0</th>\n",
       "      <td>Method 3</td>\n",
       "      <td>NN with Adam Optimizer with LR</td>\n",
       "      <td>0.821889</td>\n",
       "    </tr>\n",
       "  </tbody>\n",
       "</table>\n",
       "</div>"
      ],
      "text/plain": [
       "     Method                            Desc  accuracy\n",
       "0  Method 3  NN with Adam Optimizer with LR  0.821889"
      ]
     },
     "execution_count": 212,
     "metadata": {
      "tags": []
     },
     "output_type": "execute_result"
    }
   ],
   "source": [
    "test_result_df = pd.DataFrame({'Method':['Method 3'], 'Desc' : ['NN with Adam Optimizer with LR'], 'accuracy': [test_result_1[1]]},index={'0'})\n",
    "test_result_df = test_result_df[['Method', 'Desc', 'accuracy']]\n",
    "test_result_df"
   ]
  },
  {
   "cell_type": "code",
   "execution_count": 191,
   "metadata": {
    "colab": {
     "base_uri": "https://localhost:8080/",
     "height": 283
    },
    "colab_type": "code",
    "id": "TlCoaDC7Gy6e",
    "outputId": "a925aa4b-2dac-44e5-9d58-4a4042e4a7d5"
   },
   "outputs": [
    {
     "data": {
      "text/plain": [
       "<matplotlib.image.AxesImage at 0x7f5b162fc7b8>"
      ]
     },
     "execution_count": 191,
     "metadata": {
      "tags": []
     },
     "output_type": "execute_result"
    },
    {
     "data": {
      "image/png": "[encoded data removed]",
      "text/plain": [
       "<Figure size 432x288 with 1 Axes>"
      ]
     },
     "metadata": {
      "needs_background": "light",
      "tags": []
     },
     "output_type": "display_data"
    }
   ],
   "source": [
    "#Showing the image\n",
    "plt.imshow(X_test[95].reshape(32,32),cmap='gray')"
   ]
  },
  {
   "cell_type": "code",
   "execution_count": 195,
   "metadata": {
    "colab": {
     "base_uri": "https://localhost:8080/",
     "height": 34
    },
    "colab_type": "code",
    "id": "KF4HrJW4HB3i",
    "outputId": "36c47031-d7ac-47bd-a366-977436df0a3c"
   },
   "outputs": [
    {
     "data": {
      "text/plain": [
       "7"
      ]
     },
     "execution_count": 195,
     "metadata": {
      "tags": []
     },
     "output_type": "execute_result"
    }
   ],
   "source": [
    "#Predicting the digits\n",
    "nn_model1.predict_classes(X_test)[95]"
   ]
  },
  {
   "cell_type": "code",
   "execution_count": 196,
   "metadata": {
    "colab": {
     "base_uri": "https://localhost:8080/",
     "height": 283
    },
    "colab_type": "code",
    "id": "SObT4tS7HJN6",
    "outputId": "f57f23e0-e942-4f0a-8587-f91071d9e408"
   },
   "outputs": [
    {
     "data": {
      "text/plain": [
       "<matplotlib.image.AxesImage at 0x7f5b1622a518>"
      ]
     },
     "execution_count": 196,
     "metadata": {
      "tags": []
     },
     "output_type": "execute_result"
    },
    {
     "data": {
      "image/png": "[encoded data removed]",
      "text/plain": [
       "<Figure size 432x288 with 1 Axes>"
      ]
     },
     "metadata": {
      "needs_background": "light",
      "tags": []
     },
     "output_type": "display_data"
    }
   ],
   "source": [
    "#Showing the image\n",
    "plt.imshow(X_test[12008].reshape(32,32),cmap='gray')"
   ]
  },
  {
   "cell_type": "code",
   "execution_count": 197,
   "metadata": {
    "colab": {
     "base_uri": "https://localhost:8080/",
     "height": 34
    },
    "colab_type": "code",
    "id": "5yiKEIR3HqdO",
    "outputId": "3e8f0f18-bece-4564-96f6-7b2c218bc344"
   },
   "outputs": [
    {
     "data": {
      "text/plain": [
       "2"
      ]
     },
     "execution_count": 197,
     "metadata": {
      "tags": []
     },
     "output_type": "execute_result"
    }
   ],
   "source": [
    "#Predicting the digits\n",
    "nn_model1.predict_classes(X_test)[12008]"
   ]
  },
  {
   "cell_type": "markdown",
   "metadata": {
    "colab_type": "text",
    "id": "CtftzJIVH5TL"
   },
   "source": [
    "### <font color= Navy > Method 5 </font>"
   ]
  },
  {
   "cell_type": "code",
   "execution_count": 198,
   "metadata": {
    "colab": {
     "base_uri": "https://localhost:8080/",
     "height": 51
    },
    "colab_type": "code",
    "id": "DVblx89yHuD3",
    "outputId": "ff07ab74-afec-4892-cae2-9d6982f55ae2"
   },
   "outputs": [
    {
     "name": "stdout",
     "output_type": "stream",
     "text": [
      "563/563 [==============================] - 2s 3ms/step - loss: 0.5598 - accuracy: 0.8296\n",
      "Test accuracy for method 5 (NN with Adam Optimizer with batch normalisation and dropout) :  0.8296111226081848\n"
     ]
    }
   ],
   "source": [
    "test_result_2 = nn_model3.evaluate(X_test, y_test)\n",
    "print('Test accuracy for method 5 (NN with Adam Optimizer with batch normalisation and dropout) : ', test_result_2[1])"
   ]
  },
  {
   "cell_type": "code",
   "execution_count": 213,
   "metadata": {
    "colab": {
     "base_uri": "https://localhost:8080/",
     "height": 111
    },
    "colab_type": "code",
    "id": "74TBUFhAJQE4",
    "outputId": "d2f3af00-6257-475b-cb93-94544a180adf"
   },
   "outputs": [
    {
     "data": {
      "text/html": [
       "<div>\n",
       "<style scoped>\n",
       "    .dataframe tbody tr th:only-of-type {\n",
       "        vertical-align: middle;\n",
       "    }\n",
       "\n",
       "    .dataframe tbody tr th {\n",
       "        vertical-align: top;\n",
       "    }\n",
       "\n",
       "    .dataframe thead th {\n",
       "        text-align: right;\n",
       "    }\n",
       "</style>\n",
       "<table border=\"1\" class=\"dataframe\">\n",
       "  <thead>\n",
       "    <tr style=\"text-align: right;\">\n",
       "      <th></th>\n",
       "      <th>Method</th>\n",
       "      <th>Desc</th>\n",
       "      <th>accuracy</th>\n",
       "    </tr>\n",
       "  </thead>\n",
       "  <tbody>\n",
       "    <tr>\n",
       "      <th>0</th>\n",
       "      <td>Method 3</td>\n",
       "      <td>NN with Adam Optimizer with LR</td>\n",
       "      <td>0.821889</td>\n",
       "    </tr>\n",
       "    <tr>\n",
       "      <th>2</th>\n",
       "      <td>Method 5</td>\n",
       "      <td>NN with Adam Optimizer with batch normalisatio...</td>\n",
       "      <td>0.829611</td>\n",
       "    </tr>\n",
       "  </tbody>\n",
       "</table>\n",
       "</div>"
      ],
      "text/plain": [
       "     Method                                               Desc  accuracy\n",
       "0  Method 3                     NN with Adam Optimizer with LR  0.821889\n",
       "2  Method 5  NN with Adam Optimizer with batch normalisatio...  0.829611"
      ]
     },
     "execution_count": 213,
     "metadata": {
      "tags": []
     },
     "output_type": "execute_result"
    }
   ],
   "source": [
    "result_df = pd.DataFrame({'Method':['Method 5'], 'Desc' : ['NN with Adam Optimizer with batch normalisation and dropout'], 'accuracy': [test_result_2[1]]},index={'2'})\n",
    "test_result_df= pd.concat([test_result_df, result_df])\n",
    "test_result_df = test_result_df[['Method', 'Desc', 'accuracy']]\n",
    "test_result_df"
   ]
  },
  {
   "cell_type": "code",
   "execution_count": 199,
   "metadata": {
    "colab": {
     "base_uri": "https://localhost:8080/",
     "height": 283
    },
    "colab_type": "code",
    "id": "Dluvdx9mIGu_",
    "outputId": "86f2018c-aba5-4da6-d5e9-f8271de58ac4"
   },
   "outputs": [
    {
     "data": {
      "text/plain": [
       "<matplotlib.image.AxesImage at 0x7f5b16364278>"
      ]
     },
     "execution_count": 199,
     "metadata": {
      "tags": []
     },
     "output_type": "execute_result"
    },
    {
     "data": {
      "image/png": "[encoded data removed]",
      "text/plain": [
       "<Figure size 432x288 with 1 Axes>"
      ]
     },
     "metadata": {
      "needs_background": "light",
      "tags": []
     },
     "output_type": "display_data"
    }
   ],
   "source": [
    "#Showing the image\n",
    "plt.imshow(X_test[95].reshape(32,32),cmap='gray')"
   ]
  },
  {
   "cell_type": "code",
   "execution_count": 203,
   "metadata": {
    "colab": {
     "base_uri": "https://localhost:8080/",
     "height": 34
    },
    "colab_type": "code",
    "id": "cHVqCvEeIL2K",
    "outputId": "ca0eadae-593a-443c-ca5b-0cefbf3780e0"
   },
   "outputs": [
    {
     "data": {
      "text/plain": [
       "7"
      ]
     },
     "execution_count": 203,
     "metadata": {
      "tags": []
     },
     "output_type": "execute_result"
    }
   ],
   "source": [
    "#Predicting the digits\n",
    "nn_model3.predict_classes(X_test)[95]"
   ]
  },
  {
   "cell_type": "code",
   "execution_count": 204,
   "metadata": {
    "colab": {
     "base_uri": "https://localhost:8080/",
     "height": 283
    },
    "colab_type": "code",
    "id": "wt069A2wIODz",
    "outputId": "3396611a-b5d4-404e-d4a6-d51ac8c8025f"
   },
   "outputs": [
    {
     "data": {
      "text/plain": [
       "<matplotlib.image.AxesImage at 0x7f5b15069160>"
      ]
     },
     "execution_count": 204,
     "metadata": {
      "tags": []
     },
     "output_type": "execute_result"
    },
    {
     "data": {
      "image/png": "[encoded data removed]",
      "text/plain": [
       "<Figure size 432x288 with 1 Axes>"
      ]
     },
     "metadata": {
      "needs_background": "light",
      "tags": []
     },
     "output_type": "display_data"
    }
   ],
   "source": [
    "#Showing the image\n",
    "plt.imshow(X_test[12008].reshape(32,32),cmap='gray')"
   ]
  },
  {
   "cell_type": "code",
   "execution_count": 205,
   "metadata": {
    "colab": {
     "base_uri": "https://localhost:8080/",
     "height": 34
    },
    "colab_type": "code",
    "id": "nz-Z-wX6IRn0",
    "outputId": "eb1ed6da-1dd0-4a9c-e16b-0b85949d0be6"
   },
   "outputs": [
    {
     "data": {
      "text/plain": [
       "2"
      ]
     },
     "execution_count": 205,
     "metadata": {
      "tags": []
     },
     "output_type": "execute_result"
    }
   ],
   "source": [
    "#Predicting the digits\n",
    "nn_model3.predict_classes(X_test)[12008]"
   ]
  },
  {
   "cell_type": "markdown",
   "metadata": {},
   "source": [
    "<a id='summary'></a>"
   ]
  },
  {
   "cell_type": "markdown",
   "metadata": {
    "colab_type": "text",
    "id": "1iwvL-r_KaHS"
   },
   "source": [
    "## <font color= Navy > Final Summary </font>"
   ]
  },
  {
   "cell_type": "code",
   "execution_count": 214,
   "metadata": {
    "colab": {
     "base_uri": "https://localhost:8080/",
     "height": 204
    },
    "colab_type": "code",
    "id": "3YRadETZIVJr",
    "outputId": "18e4168d-230c-4b37-e02b-3f1cd4bacb01"
   },
   "outputs": [
    {
     "data": {
      "text/html": [
       "<div>\n",
       "<style scoped>\n",
       "    .dataframe tbody tr th:only-of-type {\n",
       "        vertical-align: middle;\n",
       "    }\n",
       "\n",
       "    .dataframe tbody tr th {\n",
       "        vertical-align: top;\n",
       "    }\n",
       "\n",
       "    .dataframe thead th {\n",
       "        text-align: right;\n",
       "    }\n",
       "</style>\n",
       "<table border=\"1\" class=\"dataframe\">\n",
       "  <thead>\n",
       "    <tr style=\"text-align: right;\">\n",
       "      <th></th>\n",
       "      <th>Method</th>\n",
       "      <th>accuracy</th>\n",
       "    </tr>\n",
       "  </thead>\n",
       "  <tbody>\n",
       "    <tr>\n",
       "      <th>1</th>\n",
       "      <td>NN with SGD Optimizer</td>\n",
       "      <td>0.343300</td>\n",
       "    </tr>\n",
       "    <tr>\n",
       "      <th>2</th>\n",
       "      <td>NN with Adam Optimizer</td>\n",
       "      <td>0.761950</td>\n",
       "    </tr>\n",
       "    <tr>\n",
       "      <th>3</th>\n",
       "      <td>NN with Adam Optimizer with LR</td>\n",
       "      <td>0.890033</td>\n",
       "    </tr>\n",
       "    <tr>\n",
       "      <th>4</th>\n",
       "      <td>NN with Adam Optimizer with batch normalisation</td>\n",
       "      <td>0.802500</td>\n",
       "    </tr>\n",
       "    <tr>\n",
       "      <th>5</th>\n",
       "      <td>NN with Adam Optimizer with batch normalisatio...</td>\n",
       "      <td>0.871783</td>\n",
       "    </tr>\n",
       "  </tbody>\n",
       "</table>\n",
       "</div>"
      ],
      "text/plain": [
       "                                              Method  accuracy\n",
       "1                              NN with SGD Optimizer  0.343300\n",
       "2                             NN with Adam Optimizer  0.761950\n",
       "3                     NN with Adam Optimizer with LR  0.890033\n",
       "4    NN with Adam Optimizer with batch normalisation  0.802500\n",
       "5  NN with Adam Optimizer with batch normalisatio...  0.871783"
      ]
     },
     "execution_count": 214,
     "metadata": {
      "tags": []
     },
     "output_type": "execute_result"
    }
   ],
   "source": [
    "# Accuracy while training the model on validation set\n",
    "results_on_val"
   ]
  },
  {
   "cell_type": "code",
   "execution_count": 215,
   "metadata": {
    "colab": {
     "base_uri": "https://localhost:8080/",
     "height": 111
    },
    "colab_type": "code",
    "id": "YG9AJDtFKpIo",
    "outputId": "875b7b34-a9f2-467e-c181-b1512a4208c0"
   },
   "outputs": [
    {
     "data": {
      "text/html": [
       "<div>\n",
       "<style scoped>\n",
       "    .dataframe tbody tr th:only-of-type {\n",
       "        vertical-align: middle;\n",
       "    }\n",
       "\n",
       "    .dataframe tbody tr th {\n",
       "        vertical-align: top;\n",
       "    }\n",
       "\n",
       "    .dataframe thead th {\n",
       "        text-align: right;\n",
       "    }\n",
       "</style>\n",
       "<table border=\"1\" class=\"dataframe\">\n",
       "  <thead>\n",
       "    <tr style=\"text-align: right;\">\n",
       "      <th></th>\n",
       "      <th>Method</th>\n",
       "      <th>Desc</th>\n",
       "      <th>accuracy</th>\n",
       "    </tr>\n",
       "  </thead>\n",
       "  <tbody>\n",
       "    <tr>\n",
       "      <th>0</th>\n",
       "      <td>Method 3</td>\n",
       "      <td>NN with Adam Optimizer with LR</td>\n",
       "      <td>0.821889</td>\n",
       "    </tr>\n",
       "    <tr>\n",
       "      <th>2</th>\n",
       "      <td>Method 5</td>\n",
       "      <td>NN with Adam Optimizer with batch normalisatio...</td>\n",
       "      <td>0.829611</td>\n",
       "    </tr>\n",
       "  </tbody>\n",
       "</table>\n",
       "</div>"
      ],
      "text/plain": [
       "     Method                                               Desc  accuracy\n",
       "0  Method 3                     NN with Adam Optimizer with LR  0.821889\n",
       "2  Method 5  NN with Adam Optimizer with batch normalisatio...  0.829611"
      ]
     },
     "execution_count": 215,
     "metadata": {
      "tags": []
     },
     "output_type": "execute_result"
    }
   ],
   "source": [
    "# Accuracy of final models on test set\n",
    "test_result_df"
   ]
  },
  {
   "cell_type": "markdown",
   "metadata": {
    "colab_type": "text",
    "id": "jeAvb2GzNV1r"
   },
   "source": [
    "\n",
    "<font color= Navy > **Summary** </font>\n",
    "<font color= Navy >\n",
    "1.   Simple NN with Adam optimizer worked very and gave decent accuracy on Validation set of 76%\n",
    "2.   Tunning learning rate on top of above model gave significant increase in accuracy i.e. 89% with very marginal overfitting. Also, the accuracy on test data is 82%\n",
    "3. Final approach with Adam optimizer, Batch normalisation and dropout layer gave accuracy of 87% with zero or no overfitting problem. The accuracy on test data is 83% </font>\n",
    "    \n",
    "\n"
   ]
  }
 ],
 "metadata": {
  "colab": {
   "collapsed_sections": [],
   "name": "NN_GL.ipynb",
   "provenance": [],
   "toc_visible": true
  },
  "kernelspec": {
   "display_name": "Python 3",
   "language": "python",
   "name": "python3"
  },
  "language_info": {
   "codemirror_mode": {
    "name": "ipython",
    "version": 3
   },
   "file_extension": ".py",
   "mimetype": "text/x-python",
   "name": "python",
   "nbconvert_exporter": "python",
   "pygments_lexer": "ipython3",
   "version": "3.6.5"
  }
 },
 "nbformat": 4,
 "nbformat_minor": 1
}
